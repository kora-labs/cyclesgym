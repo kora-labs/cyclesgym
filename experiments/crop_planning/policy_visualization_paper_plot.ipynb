{
 "cells": [
  {
   "cell_type": "code",
   "execution_count": 2,
   "metadata": {
    "pycharm": {
     "name": "#%%\n"
    }
   },
   "outputs": [],
   "source": [
    "from stable_baselines3 import PPO\n",
    "from train import Train\n",
    "from cyclesgym.utils import _evaluate_policy\n",
    "from cyclesgym.paths import PROJECT_PATH\n",
    "from cyclesgym.plot_utils import set_size, NEURIPS_TEXT_WIDTH, NEURIPS_FONT_FAMILY, set_up_plt\n",
    "import numpy as np\n",
    "import matplotlib.pyplot as plt\n",
    "import wandb\n",
    "from matplotlib.cm import get_cmap"
   ]
  },
  {
   "cell_type": "code",
   "execution_count": 3,
   "outputs": [],
   "source": [
    "color = get_cmap('Accent').colors\n",
    "set_up_plt(NEURIPS_FONT_FAMILY)"
   ],
   "metadata": {
    "collapsed": false,
    "pycharm": {
     "name": "#%%\n"
    }
   }
  },
  {
   "cell_type": "code",
   "execution_count": 4,
   "outputs": [
    {
     "name": "stdout",
     "output_type": "stream",
     "text": [
      "\n",
      "Simulation 2022_06_14_10_51_56-673fa8e1-7378-49a2-b558-4b2abd40fb77/control running ...\n",
      "\n",
      "Simulation time: 0 seconds.\n",
      "\n",
      "Simulation 2022_06_14_10_51_56-75a65c38-2510-487c-a892-df6b257b735f/control running ...\n",
      "\n",
      "Simulation time: 1 seconds.\n",
      "\n",
      "Simulation 2022_06_14_10_51_57-57037f67-45b8-4540-b02d-3dfe071f4b17/control running ...\n",
      "\n",
      "Simulation time: 0 seconds.\n",
      "\n",
      "Simulation 2022_06_14_10_51_57-46465b35-1fe2-4918-a4d7-984151490122/control running ...\n",
      "\n",
      "Simulation time: 1 seconds.\n",
      "\n",
      "Simulation 2022_06_14_10_51_58-937ba563-014a-4444-8582-14d08841d667/control running ...\n",
      "\n",
      "Simulation time: 0 seconds.\n"
     ]
    },
    {
     "name": "stderr",
     "output_type": "stream",
     "text": [
      "Warning: The planting operation scheduled on Day 139 Year 19 will not be\n",
      "performed because operation year is larger than years in rotation. Please check\n",
      "Line 255 in 2022_06_14_10_51_58-937ba563-014a-4444-8582-14d08841d667/operation.operation.\n"
     ]
    },
    {
     "name": "stdout",
     "output_type": "stream",
     "text": [
      "\n",
      "Simulation 2022_06_14_10_52_07-f7cbdd4e-3893-48b8-98cd-f0e413401ffe/control running ...\n",
      "\n",
      "Simulation time: 0 seconds.\n",
      "\n",
      "Simulation 2022_06_14_10_52_07-8f8f4ccd-2ac3-4935-8b11-2090d869cf55/control running ...\n",
      "\n",
      "Simulation time: 0 seconds.\n",
      "\n",
      "Simulation 2022_06_14_10_52_07-111161cc-7ec7-44ce-b36a-d5ce0e63ce2d/control running ...\n",
      "\n",
      "Simulation time: 1 seconds.\n",
      "\n",
      "Simulation 2022_06_14_10_52_08-566d9409-6efc-4c9f-8ae4-900e774d2ace/control running ...\n",
      "\n",
      "Simulation time: 0 seconds.\n",
      "\n",
      "Simulation 2022_06_14_10_52_08-e14b0390-7421-4760-a070-d9a5c793bfd7/control running ...\n",
      "\n",
      "Simulation time: 0 seconds.\n",
      "\n",
      "Simulation 2022_06_14_10_52_09-fce0567d-037d-4291-974a-2ee4e14afa0f/control running ...\n",
      "\n",
      "Simulation time: 0 seconds.\n"
     ]
    },
    {
     "name": "stderr",
     "output_type": "stream",
     "text": [
      "Warning: The planting operation scheduled on Day 90 Year 19 will not be\n",
      "performed because operation year is larger than years in rotation. Please check\n",
      "Line 255 in 2022_06_14_10_52_09-fce0567d-037d-4291-974a-2ee4e14afa0f/operation.operation.\n"
     ]
    },
    {
     "name": "stdout",
     "output_type": "stream",
     "text": [
      "\n",
      "Simulation 2022_06_14_10_52_18-e6e81237-59c8-471e-8ecd-37188bb5ee67/control running ...\n",
      "\n",
      "Simulation time: 0 seconds.\n"
     ]
    }
   ],
   "source": [
    "config = dict(train_start_year=1980, train_end_year=1998, eval_start_year=1998, eval_end_year=2016,\n",
    "              total_timesteps=1000000, eval_freq=1000, n_steps=80, batch_size=64, n_epochs=10, run_id=0,\n",
    "              norm_reward=True, method=\"PPO\", verbose=1, n_process=8, device='auto')\n",
    "api = wandb.Api()\n",
    "\n",
    "runs = api.runs(\"koralabs/experiments_crop_planning\")\n",
    "selected_runs = ['1hxh40tm', '1p4iajyk']\n",
    "\n",
    "actions = []\n",
    "rewards = []\n",
    "titles = []\n",
    "for run in runs:\n",
    "    dir = [dir for dir in PROJECT_PATH.joinpath('wandb').iterdir() if run.path[-1] in str(dir)]\n",
    "    if len(dir) > 0 and run.path[-1] in selected_runs:\n",
    "        dir = dir[0]\n",
    "        file = dir.joinpath('files/models/eval_det/best_model')\n",
    "        run_config = run.config\n",
    "        eval_env_class = 'CropPlanningFixedPlanting'\n",
    "        if run_config.get('non_adaptive', False) == 'True':\n",
    "            eval_env_class = 'CropPlanningFixedPlantingRotationObserver'\n",
    "        config['eval_env_class'] = eval_env_class\n",
    "        \n",
    "        envs = Train(config).create_envs()\n",
    "\n",
    "        model = PPO.load(file, device='cpu')\n",
    "\n",
    "        env = envs[1]\n",
    "        \n",
    "        if 'Rotation' in eval_env_class:\n",
    "            title = r'\\textsc{nonadaptive}'\n",
    "        else:\n",
    "            title = r'SoilN observations'\n",
    "            \n",
    "        mean_reward, std_reward, episode_actions, episode_rewards, episode_probs, episode_action_rewards = \\\n",
    "            _evaluate_policy(model, env,  n_eval_episodes=1, deterministic=True)\n",
    "        \n",
    "        actions.append(episode_actions)\n",
    "        rewards.append(episode_action_rewards)\n",
    "        titles.append(title)"
   ],
   "metadata": {
    "collapsed": false,
    "pycharm": {
     "name": "#%%\n"
    }
   }
  },
  {
   "cell_type": "code",
   "execution_count": 9,
   "outputs": [],
   "source": [
    "def plot_two_policies(actions, rewards, titles, figsize): \n",
    "    fig, ax = plt.subplots(2, 2, figsize=figsize, sharex=True, sharey='row')\n",
    "    x = 1980 + np.arange(19)\n",
    "    for i, (episode_actions, episode_rewards, title) in enumerate(zip(actions, rewards, titles)):\n",
    "        episode_actions = episode_actions.squeeze()\n",
    "        planting_date = episode_actions[:, 1]\n",
    "        planting_date = 90 + planting_date * 7\n",
    "        crop = episode_actions[:, 0]\n",
    "\n",
    "        ax[0,i].bar(x, np.array(episode_rewards)/1000., color=[color[c] for c in crop])\n",
    "        ax[0,i].set_title(title)\n",
    "        ax[1,i].scatter(x, planting_date, color=[color[c] for c in crop], s=100, marker='o')\n",
    "        ax[1,i].set_xticks(x)\n",
    "        ax[1,i].set_xticklabels(x, rotation=40)\n",
    "        ax[1,i].set_xlim(min(x) - 0.8, max(x) + 0.8)\n",
    "    \n",
    "    ax[1,0].set_ylabel(r'Planting date [DOY]')\n",
    "    ax[0,0].set_ylabel(r'Year reward [k\\$]')\n",
    "    ax[1,1].set_xlabel(r'Years')\n",
    "    ax[1,1].xaxis.set_label_coords(-0.3, -0.3)\n",
    "    plt.subplots_adjust(wspace=0.1, hspace=0.1)\n",
    "    plt.legend()\n",
    "    plt.savefig(PROJECT_PATH.joinpath('figures/crop_planning_policies/crop_planning_policies.pdf'), \n",
    "                bbox_inches='tight')\n",
    "    plt.show()"
   ],
   "metadata": {
    "collapsed": false,
    "pycharm": {
     "name": "#%%\n"
    }
   }
  },
  {
   "cell_type": "code",
   "execution_count": 10,
   "outputs": [
    {
     "name": "stderr",
     "output_type": "stream",
     "text": [
      "No artists with labels found to put in legend.  Note that artists whose label start with an underscore are ignored when legend() is called with no argument.\n"
     ]
    },
    {
     "data": {
      "text/plain": "<Figure size 396x244.741 with 4 Axes>",
      "image/png": "[encoded data removed]"
     },
     "metadata": {
      "needs_background": "light"
     },
     "output_type": "display_data"
    }
   ],
   "source": [
    "plot_two_policies(actions, rewards, titles, set_size(NEURIPS_TEXT_WIDTH, fraction=1, subplots=(2, 2)))"
   ],
   "metadata": {
    "collapsed": false,
    "pycharm": {
     "name": "#%%\n"
    }
   }
  },
  {
   "cell_type": "code",
   "execution_count": null,
   "outputs": [],
   "source": [],
   "metadata": {
    "collapsed": false,
    "pycharm": {
     "name": "#%%\n"
    }
   }
  }
 ],
 "metadata": {
  "kernelspec": {
   "name": "cyclesgym",
   "language": "python",
   "display_name": "cyclesgym"
  },
  "language_info": {
   "codemirror_mode": {
    "name": "ipython",
    "version": 3
   },
   "file_extension": ".py",
   "mimetype": "text/x-python",
   "name": "python",
   "nbconvert_exporter": "python",
   "pygments_lexer": "ipython3",
   "version": "3.8.13"
  }
 },
 "nbformat": 4,
 "nbformat_minor": 1
}