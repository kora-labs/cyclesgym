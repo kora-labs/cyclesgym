{
 "cells": [
  {
   "cell_type": "code",
   "execution_count": 1,
   "metadata": {
    "pycharm": {
     "name": "#%%\n"
    }
   },
   "outputs": [],
   "source": [
    "import wandb\n",
    "from stable_baselines3 import PPO\n",
    "from train import Train\n",
    "from eval import _evaluate_policy\n",
    "from pathlib import Path\n",
    "from cyclesgym.paths import PROJECT_PATH\n",
    "import numpy as np\n",
    "import matplotlib.pyplot as plt\n",
    "from cyclesgym.envs.implementers import RotationPlanter\n",
    "import pandas as pd\n",
    "import wandb\n",
    "import csv\n",
    "import pathlib\n",
    "from matplotlib.cm import get_cmap"
   ]
  },
  {
   "cell_type": "code",
   "execution_count": null,
   "outputs": [],
   "source": [
    "def set_size(width, fraction=1, subplots=(1, 1)):\n",
    "    if width == 'thesis':\n",
    "        width_pt = 426.79135\n",
    "    elif width == 'beamer':\n",
    "        width_pt = 307.28987\n",
    "    else:\n",
    "        width_pt = width\n",
    "\n",
    "    # Width of figure (in pts)\n",
    "    fig_width_pt = width_pt * fraction\n",
    "    # Convert from pt to inches\n",
    "    inches_per_pt = 1 / 72.27\n",
    "\n",
    "    # Golden ratio to set aesthetic figure height\n",
    "    # https://disq.us/p/2940ij3\n",
    "    golden_ratio = (5**.5 - 1) / 2\n",
    "\n",
    "    # Figure width in inches\n",
    "    fig_width_in = fig_width_pt * inches_per_pt\n",
    "    # Figure height in inches\n",
    "    fig_height_in = fig_width_in * golden_ratio * (subplots[0] / subplots[1])\n",
    "\n",
    "    return (fig_width_in, fig_height_in)"
   ],
   "metadata": {
    "collapsed": false,
    "pycharm": {
     "name": "#%%\n"
    }
   }
  },
  {
   "cell_type": "code",
   "execution_count": null,
   "outputs": [],
   "source": [
    "text_width = 397.48499\n",
    "\n",
    "plt.rcParams['text.usetex'] = True\n",
    "\n",
    "SMALL_SIZE = 6\n",
    "MEDIUM_SIZE = 8\n",
    "BIGGER_SIZE = 10\n",
    "\n",
    "plt.rc('font', size=MEDIUM_SIZE)         # controls default text sizes\n",
    "plt.rc('axes', titlesize=SMALL_SIZE)     # fontsize of the axes title\n",
    "plt.rc('axes', labelsize=MEDIUM_SIZE)    # fontsize of the x and y labels\n",
    "plt.rc('xtick', labelsize=SMALL_SIZE)    # fontsize of the tick labels\n",
    "plt.rc('ytick', labelsize=SMALL_SIZE)    # fontsize of the tick labels\n",
    "plt.rc('legend', fontsize=SMALL_SIZE)    # legend fontsize\n",
    "plt.rc('figure', titlesize=BIGGER_SIZE)  # fontsize of the figure title\n",
    "plt.rcParams[\"font.family\"] = \"Times New Roman\"\n",
    "\n",
    "color = get_cmap('Accent').colors"
   ],
   "metadata": {
    "collapsed": false,
    "pycharm": {
     "name": "#%%\n"
    }
   }
  },
  {
   "cell_type": "code",
   "execution_count": null,
   "outputs": [],
   "source": [
    "config = dict(train_start_year=1980, train_end_year=1998, eval_start_year=1998, eval_end_year=2016,\n",
    "              total_timesteps=1000000, eval_freq=1000, n_steps=80, batch_size=64, n_epochs=10, run_id=0,\n",
    "              norm_reward=True, method=\"PPO\", verbose=1, n_process=8, device='auto')\n",
    "api = wandb.Api()\n",
    "\n",
    "runs = api.runs(\"koralabs/experiments_crop_planning\")\n",
    "selected_runs = ['1hxh40tm', '1p4iajyk']\n",
    "\n",
    "actions = []\n",
    "rewards = []\n",
    "titles = []\n",
    "for run in runs:\n",
    "    dir = [dir for dir in PROJECT_PATH.joinpath('wandb').iterdir() if run.path[-1] in str(dir)]\n",
    "    if len(dir) > 0 and run.path[-1] in selected_runs:\n",
    "        dir = dir[0]\n",
    "        file = dir.joinpath('files/models/eval_det/best_model')\n",
    "        run_config = run.config\n",
    "        eval_env_class = 'CropPlanningFixedPlanting'\n",
    "        if run_config.get('non_adaptive', False) == 'True':\n",
    "            eval_env_class = 'CropPlanningFixedPlantingRotationObserver'\n",
    "        config['eval_env_class'] = eval_env_class\n",
    "        \n",
    "        envs = Train(config).create_envs()\n",
    "\n",
    "        model = PPO.load(file, device='cpu')\n",
    "\n",
    "        env = envs[1]\n",
    "        \n",
    "        if 'Rotation' in eval_env_class:\n",
    "            title = r'\\textsc{nonadaptive}'NON\n",
    "        else:\n",
    "            title = r'SoilN observations'\n",
    "            \n",
    "        mean_reward, std_reward, episode_actions, episode_rewards, episode_probs, episode_action_rewards = \\\n",
    "            _evaluate_policy(model, env,  n_eval_episodes=1, deterministic=True)\n",
    "        \n",
    "        actions.append(episode_actions)\n",
    "        rewards.append(episode_action_rewards)\n",
    "        titles.append(title)"
   ],
   "metadata": {
    "collapsed": false,
    "pycharm": {
     "name": "#%%\n"
    }
   }
  },
  {
   "cell_type": "code",
   "execution_count": null,
   "outputs": [],
   "source": [
    "[sum(r)/19 for r in rewards]"
   ],
   "metadata": {
    "collapsed": false,
    "pycharm": {
     "name": "#%%\n"
    }
   }
  },
  {
   "cell_type": "code",
   "execution_count": null,
   "outputs": [],
   "source": [
    "def plot_two_policies(actions, rewards, titles, figsize): \n",
    "    fig, ax = plt.subplots(2, 2, figsize=figsize, sharex=True, sharey='row')\n",
    "    x = 1980 + np.arange(19)\n",
    "    for i, (episode_actions, episode_rewards, title) in enumerate(zip(actions, rewards, titles)):\n",
    "        episode_actions = episode_actions.squeeze()\n",
    "        planting_date = episode_actions[:, 1]\n",
    "        planting_date = 90 + planting_date * 7\n",
    "        crop = episode_actions[:, 0]\n",
    "\n",
    "        ax[0,i].bar(x, np.array(episode_rewards)/1000., color=[color[c] for c in crop])\n",
    "        ax[0,i].set_title(title)\n",
    "        ax[1,i].scatter(x, planting_date, color=[color[c] for c in crop], s=100, marker='o')\n",
    "        ax[1,i].set_xticks(x)\n",
    "        ax[1,i].set_xticklabels(x, rotation=40)\n",
    "        ax[1,i].set_xlim(min(x) - 0.8, max(x) + 0.8)\n",
    "    \n",
    "    ax[1,0].set_ylabel(r'Planting date [DOY]')\n",
    "    ax[0,0].set_ylabel(r'Year reward [k\\$]')\n",
    "    ax[1,1].set_xlabel(r'Years')\n",
    "    ax[1,1].xaxis.set_label_coords(-0.1, -0.3)\n",
    "    #fig.autofmt_xdate()\n",
    "    plt.subplots_adjust(wspace=0.1, hspace=0.1)\n",
    "    plt.legend()\n",
    "    plt.savefig(PROJECT_PATH.joinpath('figures/crop_planning_policies/crop_planning_policies.pdf'), \n",
    "                bbox_inches='tight')\n",
    "    plt.show()"
   ],
   "metadata": {
    "collapsed": false,
    "pycharm": {
     "name": "#%%\n"
    }
   }
  },
  {
   "cell_type": "code",
   "execution_count": null,
   "outputs": [],
   "source": [
    "plot_two_policies(actions, rewards, titles, set_size(text_width, fraction=1, subplots=(2, 2)))"
   ],
   "metadata": {
    "collapsed": false,
    "pycharm": {
     "name": "#%%\n"
    }
   }
  },
  {
   "cell_type": "code",
   "execution_count": 97,
   "metadata": {
    "pycharm": {
     "name": "#%%\n"
    }
   },
   "outputs": [
    {
     "name": "stderr",
     "output_type": "stream",
     "text": [
      "No artists with labels found to put in legend.  Note that artists whose label start with an underscore are ignored when legend() is called with no argument.\n"
     ]
    },
    {
     "data": {
      "image/png": "[encoded data removed]",
      "text/plain": [
       "<Figure size 396x244.741 with 4 Axes>"
      ]
     },
     "metadata": {
      "needs_background": "light"
     },
     "output_type": "display_data"
    }
   ],
   "source": [
    "plot_two_policies(actions, rewards, titles, set_size(text_width, fraction=1, subplots=(2, 2)))"
   ]
  }
 ],
 "metadata": {
  "kernelspec": {
   "display_name": "Python 3 (ipykernel)",
   "language": "python",
   "name": "python3"
  },
  "language_info": {
   "codemirror_mode": {
    "name": "ipython",
    "version": 3
   },
   "file_extension": ".py",
   "mimetype": "text/x-python",
   "name": "python",
   "nbconvert_exporter": "python",
   "pygments_lexer": "ipython3",
   "version": "3.8.13"
  }
 },
 "nbformat": 4,
 "nbformat_minor": 1
}