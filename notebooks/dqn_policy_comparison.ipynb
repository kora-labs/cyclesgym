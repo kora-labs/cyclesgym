{
 "cells": [
  {
   "cell_type": "code",
   "execution_count": null,
   "metadata": {},
   "outputs": [],
   "source": [
    "import numpy as np\n",
    "from stable_baselines3 import DQN\n",
    "from stable_baselines3.common.evaluation import evaluate_policy\n",
    "from pathlib import Path\n",
    "from cyclesgym.dummy_policies import OpenLoopPolicy\n",
    "from cyclesgym.env import CornEnv\n",
    "import matplotlib.pyplot as plt\n",
    "from stable_baselines3.common.results_plotter import load_results, ts2xy\n",
    "import pandas as pd\n",
    "\n",
    "%matplotlib inline"
   ]
  },
  {
   "cell_type": "markdown",
   "metadata": {},
   "source": [
    "### Models and baselines"
   ]
  },
  {
   "cell_type": "code",
   "execution_count": null,
   "metadata": {},
   "outputs": [],
   "source": [
    "# Open Loop baseline\n",
    "action_sequence = [0] * 52\n",
    "action_sequence[15] = 6\n",
    "baseline_ol = OpenLoopPolicy(action_sequence)\n",
    "\n",
    "# Max fertilization\n",
    "baseline_max = OpenLoopPolicy([6] * 52)\n",
    "\n",
    "# No fertilization\n",
    "baseline_min = OpenLoopPolicy([0] * 52)\n",
    "\n",
    "# Random fertilization\n",
    "baseline_rand = OpenLoopPolicy(list(np.random.choice(7, 52)))\n",
    "\n",
    "# Untrained fertilization\n",
    "env = CornEnv('ContinuousCorn.ctrl')\n",
    "agents_dir = Path.cwd().parent.joinpath('agents')\n",
    "untrained = DQN.load(agents_dir.joinpath('corn_untrained'), env=env)\n",
    "\n",
    "# Trained fertilization\n",
    "trained = DQN.load(agents_dir.joinpath('corn_dqn_trained'), env=env)\n",
    "\n",
    "policies = [baseline_rand, untrained, baseline_max, baseline_min, baseline_ol, trained]\n",
    "names = ['Random', 'Untrained', 'Max fertilization', 'No fertilization', 'Expert open loop', 'DQN']"
   ]
  },
  {
   "cell_type": "code",
   "execution_count": null,
   "metadata": {},
   "outputs": [],
   "source": [
    "def smooth(y, box_pts):\n",
    "    box = np.ones(box_pts)/box_pts\n",
    "    y_smooth = np.convolve(y, box, mode='same')\n",
    "    return y_smooth\n",
    "\n",
    "\n",
    "x, y = ts2xy(load_results(agents_dir), 'episodes')\n",
    "df = load_results(agents_dir)\n",
    "print(df)\n",
    "plt.plot(x, smooth(y, 5))\n",
    "df.groupby(np.ndarray([1, 2]))\n"
   ]
  },
  {
   "cell_type": "code",
   "execution_count": null,
   "metadata": {},
   "outputs": [],
   "source": [
    "rewards = np.zeros(len(policies), dtype=float)\n",
    "for i, pi in enumerate(policies):\n",
    "    rewards[i], _ = evaluate_policy(pi, trained.get_env(), n_eval_episodes=1)\n",
    "    \n",
    "for r, name in zip(rewards, names):\n",
    "    print(f'Reward of {name} policy:\\t{r}')"
   ]
  },
  {
   "cell_type": "code",
   "execution_count": null,
   "metadata": {},
   "outputs": [],
   "source": [
    "plt.bar(np.arange(len(rewards)), rewards)\n",
    "ax = plt.gca()\n",
    "ax.set_xticks(np.arange(len(rewards)))\n",
    "ax.set_xticklabels(names)\n",
    "plt.xticks(rotation=45)"
   ]
  },
  {
   "cell_type": "code",
   "execution_count": null,
   "metadata": {},
   "outputs": [],
   "source": []
  }
 ],
 "metadata": {
  "kernelspec": {
   "display_name": "cyclesgym",
   "language": "python",
   "name": "cyclesgym"
  },
  "language_info": {
   "codemirror_mode": {
    "name": "ipython",
    "version": 3
   },
   "file_extension": ".py",
   "mimetype": "text/x-python",
   "name": "python",
   "nbconvert_exporter": "python",
   "pygments_lexer": "ipython3",
   "version": "3.8.12"
  }
 },
 "nbformat": 4,
 "nbformat_minor": 2
}
