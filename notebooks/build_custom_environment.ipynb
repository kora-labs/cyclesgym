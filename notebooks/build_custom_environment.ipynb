{
 "cells": [
  {
   "cell_type": "markdown",
   "metadata": {
    "pycharm": {
     "name": "#%% md\n"
    }
   },
   "source": [
    "# How to build a custom environment with custom observations, rewards, actions, and weather generative model."
   ]
  },
  {
   "cell_type": "markdown",
   "metadata": {
    "pycharm": {
     "name": "#%% md\n"
    }
   },
   "source": [
    "In this notebook, we show how to build a custom environment for maize management with custom observations, rewards, actions, and weather generative model.\n",
    "\n",
    "### Observations\n",
    "We first define a new observation space. A simple useful observation for maize fertilization is the cumulative amount of fertilizer used so far in the season.\n",
    "This observation is already available in 'observers'."
   ]
  },
  {
   "cell_type": "code",
   "execution_count": null,
   "metadata": {
    "pycharm": {
     "name": "#%%\n"
    }
   },
   "outputs": [],
   "source": [
    "from cyclesgym.envs.observers import NToDateObserver"
   ]
  },
  {
   "cell_type": "markdown",
   "metadata": {
    "pycharm": {
     "name": "#%% md\n"
    }
   },
   "source": [
    "A new observation to combine with the last one, is a trailing window of the fertilization events in the last month. Given that the standard corn evironment has a step size of 1 week,\n",
    "this trailing window can be a 4 dimensional vector."
   ]
  },
  {
   "cell_type": "code",
   "execution_count": null,
   "metadata": {
    "pycharm": {
     "name": "#%%\n"
    }
   },
   "outputs": [],
   "source": [
    "from cyclesgym.envs.observers import Observer\n",
    "from datetime import datetime\n",
    "import numpy as np\n",
    "\n",
    "class FertilizationTrailingWindowObserver(Observer):\n",
    "\n",
    "    def __init__(self,\n",
    "                 end_year: int,\n",
    "                 Nobs=4):\n",
    "        super(FertilizationTrailingWindowObserver, self).__init__(end_year)\n",
    "        self.Nobs = Nobs\n",
    "        self.lower_bound = np.full((self.Nobs,), -np.inf)\n",
    "        self.upper_bound = np.full((self.Nobs,), np.inf)\n",
    "        self.reset()\n",
    "\n",
    "    def compute_obs(self,\n",
    "                    date: datetime.date,\n",
    "                    N: int):\n",
    "\n",
    "        self.window.append(N)\n",
    "        self.window = self.window[-self.Nobs:]\n",
    "        return np.array(self.window)\n",
    "\n",
    "    def reset(self):\n",
    "        self.window = [0]*self.Nobs\n",
    "        self.obs_names = ['WINDOW_'+str(i) for i in range(self.Nobs)]"
   ]
  },
  {
   "cell_type": "markdown",
   "metadata": {
    "pycharm": {
     "name": "#%% md\n"
    }
   },
   "source": [
    "We can now compose the trailing window observation and the cumulative nitrogen observation as"
   ]
  },
  {
   "cell_type": "code",
   "execution_count": null,
   "metadata": {
    "pycharm": {
     "name": "#%%\n"
    }
   },
   "outputs": [],
   "source": [
    "from cyclesgym.envs.observers import compound_observer\n",
    "trailing_and_cumulative = lambda end_year: compound_observer([NToDateObserver(end_year), FertilizationTrailingWindowObserver(end_year)])"
   ]
  },
  {
   "cell_type": "markdown",
   "metadata": {},
   "source": [
    "### Action space\n",
    "We can now build a new action space that uses manure fertilization instead of the classic mineral nitrogen fertilization used in the standard environments of CyclesGym. Manure fertilization is characterized by both organic C and N. The rate are taken by a standard manure fertilization given by Cycles documentation."
   ]
  },
  {
   "cell_type": "code",
   "execution_count": null,
   "metadata": {
    "pycharm": {
     "name": "#%%\n"
    }
   },
   "outputs": [],
   "source": [
    "from cyclesgym.envs.implementers import Fertilizer\n",
    "from cyclesgym.managers import OperationManager\n",
    "from pathlib import Path\n",
    "\n",
    "class ManureFertilizer(Fertilizer):\n",
    "    def __init__(self, operation_manager: OperationManager,\n",
    "                 operation_fname: Path,\n",
    "                 start_year: int,\n",
    "                 rate: [float] = np.array([0.26, 0.0087, 0.0027])):\n",
    "\n",
    "        nutrients = ['C_Organic', 'N_Organic', 'N_NH4']\n",
    "        super(ManureFertilizer, self).__init__(operation_manager,\n",
    "                                               operation_fname,\n",
    "                                               nutrients,\n",
    "                                               start_year)\n",
    "        assert np.all(np.logical_and(0 <= rate, rate <= 1)), f'Rate must be in [0, 1]. It is {rate} instead'\n",
    "        self.rate = rate\n",
    "\n",
    "    def convert_mass(self, mass):\n",
    "        #mass in Kg\n",
    "        mass = mass * sum(self.rate)\n",
    "        masses = {'C_Organic': mass * self.rate[0],\n",
    "                  'N_Organic': mass * self.rate[1],\n",
    "                  'N_NH4': mass * self.rate[2]}\n",
    "        return masses\n",
    "\n",
    "    def implement_action(self, date: datetime.date, mass: float):\n",
    "        #mass in Kg\n",
    "        masses = self.convert_mass(mass)\n",
    "        return super(ManureFertilizer, self).implement_action(date, masses)"
   ]
  },
  {
   "cell_type": "markdown",
   "metadata": {
    "pycharm": {
     "name": "#%% md\n"
    }
   },
   "source": [
    "### Rewards\n",
    "We can now define a new cost function for the manure fertilization. Let assume a rough cost estimate for manure to be 10$ per ton."
   ]
  },
  {
   "cell_type": "code",
   "execution_count": null,
   "metadata": {
    "pycharm": {
     "name": "#%%\n"
    }
   },
   "outputs": [],
   "source": [
    "from cyclesgym.envs.utils import date2ydoy\n",
    "manure_price_dollars_per_kg = 1 * 0.001\n",
    "\n",
    "class ManureProfitabilityRewarder(object):\n",
    "\n",
    "    def compute_reward(self, date, delta, action=None):\n",
    "        #mass in Kg\n",
    "        manure_kg_per_hectare = action\n",
    "        assert manure_kg_per_hectare >= 0, f'We cannot have negative fertilization'\n",
    "        y, doy = date2ydoy(date)\n",
    "        dollars_per_hectare = manure_kg_per_hectare * manure_price_dollars_per_kg\n",
    "        return -dollars_per_hectare"
   ]
  },
  {
   "cell_type": "markdown",
   "metadata": {
    "pycharm": {
     "name": "#%% md\n"
    }
   },
   "source": [
    "The total reward is the compound of crop profitability with the cost of manure application."
   ]
  },
  {
   "cell_type": "code",
   "execution_count": null,
   "metadata": {
    "pycharm": {
     "name": "#%%\n"
    }
   },
   "outputs": [],
   "source": [
    "from cyclesgym.envs.rewarders import compound_rewarder, CropRewarder\n",
    "total_reward = lambda season_manager: compound_rewarder([CropRewarder(season_manager, 'CornRM.90'), ManureProfitabilityRewarder()])"
   ]
  },
  {
   "cell_type": "markdown",
   "metadata": {},
   "source": [
    "### Weather generator\n",
    "To use a custom weather generative model, we must subclass the `WeatherGenerator` abstract base class in `cyclesgym.env.weather_generator`. In particular, we must implement the abstract method `generate_weather`, which should populate the temporary weather directory automatically created by the generator with `Cycles` compatible [weather files](https://psumodeling.github.io/Cycles/#weather-file-weather). Moreover, it should append to the `weather_list` attribute the names of all such files. For an example, see the `WeatherShuffler` or `FixedWeatherGenerator` classes in the same file as the `WeatherGenerator`.\n",
    "\n",
    "When these generators are used in the `CylesEnv`, they sample uniformly at random a file from the list that they generated. If you want to change the distribution over such files, you can do so by overriding the method `sample_weather_path` of your generator."
   ]
  },
  {
   "cell_type": "markdown",
   "metadata": {
    "pycharm": {
     "name": "#%% md\n"
    }
   },
   "source": [
    "\n",
    "### Environment\n",
    "We can finally define a new environment that combines all the elements defined so far."
   ]
  },
  {
   "cell_type": "code",
   "execution_count": null,
   "metadata": {
    "pycharm": {
     "name": "#%%\n"
    }
   },
   "outputs": [],
   "source": [
    "from cyclesgym.envs.corn import Corn\n",
    "\n",
    "class OrganicCorn(Corn):\n",
    "\n",
    "    def _init_observer(self, *args, **kwargs):\n",
    "        end_year = self.ctrl_base_manager.ctrl_dict['SIMULATION_END_YEAR']\n",
    "        self.observer = trailing_and_cumulative(end_year)\n",
    "\n",
    "    def _init_rewarder(self, *args, **kwargs):\n",
    "        self.rewarder = total_reward(self.season_manager)\n",
    "\n",
    "    def _init_implementer(self, *args, **kwargs):\n",
    "        self.implementer = ManureFertilizer(operation_manager=self.op_manager,\n",
    "                                            operation_fname=self.op_file,\n",
    "                                            start_year=self.ctrl_base_manager.ctrl_dict['SIMULATION_START_YEAR']\n",
    "                                            )"
   ]
  },
  {
   "cell_type": "markdown",
   "metadata": {
    "pycharm": {
     "name": "#%% md\n"
    }
   },
   "source": [
    "### Training\n",
    "Now we can define a configuration file that is logged using wandb."
   ]
  },
  {
   "cell_type": "code",
   "execution_count": null,
   "metadata": {
    "pycharm": {
     "name": "#%%\n"
    }
   },
   "outputs": [],
   "source": [
    "import wandb\n",
    "from cyclesgym.utils.paths import PROJECT_PATH\n",
    "\n",
    "config = dict(start_year=1980, end_year=1980, maxN=50000, delta=7, n_actions=11,\n",
    "              total_timesteps=100000, n_steps=80, batch_size=80, n_epochs=10,\n",
    "              verbose=1, device='cpu', n_procs=1)\n",
    "\n",
    "wandb.init(\n",
    "    config=config,\n",
    "    sync_tensorboard=True,\n",
    "    project='notebook_experiments',\n",
    "    monitor_gym=True,\n",
    "    save_code=True,\n",
    "    dir=PROJECT_PATH,\n",
    ")\n",
    "\n",
    "config = wandb.config"
   ]
  },
  {
   "cell_type": "markdown",
   "metadata": {
    "pycharm": {
     "name": "#%% md\n"
    }
   },
   "source": [
    "Now we use a subset of the configuration file to define a crop planning environment that simulate a multiyear rotation between maize and soybeans."
   ]
  },
  {
   "cell_type": "code",
   "execution_count": null,
   "metadata": {
    "pycharm": {
     "name": "#%%\n"
    }
   },
   "outputs": [],
   "source": [
    "import gym\n",
    "from stable_baselines3.common.vec_env import SubprocVecEnv, VecNormalize\n",
    "from stable_baselines3.common.vec_env import VecMonitor\n",
    "from cyclesgym.utils.paths import CYCLES_PATH\n",
    "from cyclesgym.envs.weather_generator import WeatherShuffler\n",
    "\n",
    "env_conf = {key: config[key] for key in ['start_year', 'end_year', 'maxN', 'delta', 'n_actions']}\n",
    "\n",
    "weather_generator_class = WeatherShuffler\n",
    "weather_generator_kwargs = dict(n_weather_samples=100,\n",
    "                                sampling_start_year=1980,\n",
    "                                sampling_end_year=2016,\n",
    "                                base_weather_file=CYCLES_PATH.joinpath('input', 'RockSprings.weather'),\n",
    "                                target_year_range=np.arange(1980, 2016 + 1))\n",
    "\n",
    "env_conf.update({'weather_generator_class': weather_generator_class, \n",
    "                 'weather_generator_kwargs': weather_generator_kwargs})\n",
    "\n",
    "def make_env():\n",
    "    def f():\n",
    "        env = OrganicCorn(**env_conf)\n",
    "        env = gym.wrappers.RecordEpisodeStatistics(env)\n",
    "        return env\n",
    "    return f\n",
    "\n",
    "env = SubprocVecEnv([make_env() for _ in range(config['n_procs'])], start_method='fork')\n",
    "env = VecMonitor(env)\n",
    "env = VecNormalize(env, norm_obs=True, norm_reward=True, clip_obs=5000., clip_reward=5000.)"
   ]
  },
  {
   "cell_type": "markdown",
   "metadata": {
    "pycharm": {
     "name": "#%% md\n"
    }
   },
   "source": [
    "We can now define the learning agent. Here we use the PPO model from the stable-baselines3 library fro simplicity."
   ]
  },
  {
   "cell_type": "code",
   "execution_count": null,
   "metadata": {
    "pycharm": {
     "name": "#%%\n"
    }
   },
   "outputs": [],
   "source": [
    "from stable_baselines3 import PPO\n",
    "\n",
    "model = PPO('MlpPolicy', env, n_steps=config['n_steps'], batch_size=config['batch_size'],\n",
    "            n_epochs=config['n_epochs'], verbose=config['verbose'], tensorboard_log=wandb.run.dir,\n",
    "            device=config['device'])"
   ]
  },
  {
   "cell_type": "markdown",
   "metadata": {
    "pycharm": {
     "name": "#%% md\n"
    }
   },
   "source": [
    "Now we train the model for a number ot total step specified in the config dictionary."
   ]
  },
  {
   "cell_type": "code",
   "execution_count": null,
   "metadata": {
    "pycharm": {
     "name": "#%%\n"
    }
   },
   "outputs": [],
   "source": [
    "from wandb.integration.sb3 import WandbCallback\n",
    "model.learn(total_timesteps=config[\"total_timesteps\"], callback=[WandbCallback()])\n",
    "model.finish()"
   ]
  }
 ],
 "metadata": {
  "anaconda-cloud": {},
  "kernelspec": {
   "display_name": "Python [conda env:cyclesgym]",
   "language": "python",
   "name": "conda-env-cyclesgym-py"
  },
  "language_info": {
   "codemirror_mode": {
    "name": "ipython",
    "version": 3
   },
   "file_extension": ".py",
   "mimetype": "text/x-python",
   "name": "python",
   "nbconvert_exporter": "python",
   "pygments_lexer": "ipython3",
   "version": "3.8.13"
  }
 },
 "nbformat": 4,
 "nbformat_minor": 2
}
