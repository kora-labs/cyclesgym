{
 "cells": [
  {
   "cell_type": "markdown",
   "metadata": {
    "pycharm": {
     "name": "#%% md\n"
    }
   },
   "source": [
    "# Training an RL agent with a standard environment\n",
    "In this notebook, we show how to train an RL agent using the stable-baselines3 library over an environment provided by CyclesGym. We start importing the packages needed."
   ]
  },
  {
   "cell_type": "code",
   "execution_count": 1,
   "metadata": {
    "pycharm": {
     "name": "#%%\n"
    }
   },
   "outputs": [],
   "source": [
    "from cyclesgym.envs import Corn\n",
    "from cyclesgym.envs.crop_planning import CropPlanningFixedPlanting\n",
    "import numpy as np\n",
    "from cyclesgym.utils.paths import PROJECT_PATH\n",
    "import wandb\n",
    "from wandb.integration.sb3 import WandbCallback\n",
    "import gym\n",
    "from stable_baselines3 import PPO"
   ]
  },
  {
   "cell_type": "markdown",
   "metadata": {
    "pycharm": {
     "name": "#%% md\n"
    }
   },
   "source": [
    "First, we define a configuration file that is logged using wandb."
   ]
  },
  {
   "cell_type": "code",
   "execution_count": 7,
   "metadata": {
    "pycharm": {
     "name": "#%%\n"
    }
   },
   "outputs": [
    {
     "data": {
      "text/html": [
       "wandb version 0.12.18 is available!  To upgrade, please run:\n",
       " $ pip install wandb --upgrade"
      ],
      "text/plain": [
       "<IPython.core.display.HTML object>"
      ]
     },
     "metadata": {},
     "output_type": "display_data"
    },
    {
     "data": {
      "text/html": [
       "Tracking run with wandb version 0.12.16"
      ],
      "text/plain": [
       "<IPython.core.display.HTML object>"
      ]
     },
     "metadata": {},
     "output_type": "display_data"
    },
    {
     "data": {
      "text/html": [
       "Run data is saved locally in <code>/home/luca/Projects/plant_science/cyclesgym/wandb/run-20220615_120127-2pmis0jq</code>"
      ],
      "text/plain": [
       "<IPython.core.display.HTML object>"
      ]
     },
     "metadata": {},
     "output_type": "display_data"
    },
    {
     "data": {
      "text/html": [
       "Syncing run <strong><a href=\"https://wandb.ai/lucori/notebook_experiments/runs/2pmis0jq\" target=\"_blank\">solar-sun-9</a></strong> to <a href=\"https://wandb.ai/lucori/notebook_experiments\" target=\"_blank\">Weights & Biases</a> (<a href=\"https://wandb.me/run\" target=\"_blank\">docs</a>)<br/>"
      ],
      "text/plain": [
       "<IPython.core.display.HTML object>"
      ]
     },
     "metadata": {},
     "output_type": "display_data"
    }
   ],
   "source": [
    "config = dict(start_year=1980, end_year=1990,\n",
    "              total_timesteps=1000, n_steps=80, batch_size=80, n_epochs=10,\n",
    "              verbose=1, device='cpu', n_weather_samples=50, \n",
    "              rotation_crops=['CornRM.100', 'SoybeanMG.3'] )\n",
    "\n",
    "wandb.init(\n",
    "    config=config,\n",
    "    sync_tensorboard=True,\n",
    "    project='notebook_experiments',\n",
    "    monitor_gym=True,\n",
    "    save_code=True,\n",
    "    dir=PROJECT_PATH,\n",
    ")\n",
    "\n",
    "config = wandb.config"
   ]
  },
  {
   "cell_type": "markdown",
   "metadata": {
    "pycharm": {
     "name": "#%% md\n"
    }
   },
   "source": [
    "Now we use a subset of the configuration file to define a crop planning environment that simulate a multiyear rotation between maize and soybeans."
   ]
  },
  {
   "cell_type": "code",
   "execution_count": 8,
   "metadata": {
    "scrolled": true,
    "pycharm": {
     "name": "#%%\n"
    }
   },
   "outputs": [
    {
     "name": "stdout",
     "output_type": "stream",
     "text": [
      "\n",
      "Simulation 2022_06_15_12_01_33-25539085-741e-46bd-9f02-e9a81d6d4717/control running ...\n",
      "\n",
      "Simulation time: 1 seconds.\n",
      "starting generating weather files\n",
      "done generating weather files\n"
     ]
    }
   ],
   "source": [
    "env_conf = {key: config[key] for key in ['start_year', 'end_year', 'rotation_crops', 'n_weather_samples']}\n",
    "\n",
    "env = CropPlanningFixedPlanting(**env_conf)\n",
    "env = gym.wrappers.RecordEpisodeStatistics(env)"
   ]
  },
  {
   "cell_type": "markdown",
   "metadata": {
    "pycharm": {
     "name": "#%% md\n"
    }
   },
   "source": [
    "We can now define the learning agent. Here we use the PPO model from the stable-baselines3 library fro simplicity."
   ]
  },
  {
   "cell_type": "code",
   "execution_count": 9,
   "metadata": {
    "pycharm": {
     "name": "#%%\n"
    }
   },
   "outputs": [
    {
     "name": "stdout",
     "output_type": "stream",
     "text": [
      "Using cpu device\n",
      "Wrapping the env with a `Monitor` wrapper\n",
      "Wrapping the env in a DummyVecEnv.\n"
     ]
    }
   ],
   "source": [
    "model = PPO('MlpPolicy', env, n_steps=config['n_steps'], batch_size=config['batch_size'],\n",
    "            n_epochs=config['n_epochs'], verbose=config['verbose'], tensorboard_log=wandb.run.dir,\n",
    "            device=config['device'])"
   ]
  },
  {
   "cell_type": "markdown",
   "metadata": {
    "pycharm": {
     "name": "#%% md\n"
    }
   },
   "source": [
    "Now we train the model for a number ot total step specified in the config dictionary."
   ]
  },
  {
   "cell_type": "code",
   "execution_count": 5,
   "metadata": {
    "scrolled": true,
    "pycharm": {
     "name": "#%%\n"
    }
   },
   "outputs": [
    {
     "name": "stderr",
     "output_type": "stream",
     "text": [
      "\u001B[34m\u001B[1mwandb\u001B[0m: \u001B[33mWARNING\u001B[0m Found log directory outside of given root_logdir, dropping given root_logdir for event file in /home/luca/Projects/plant_science/cyclesgym/wandb/run-20220615_115300-5u3t5fey/files/PPO_1\n"
     ]
    },
    {
     "name": "stdout",
     "output_type": "stream",
     "text": [
      "\n",
      "Simulation 2022_06_15_11_53_13-03f071f9-d437-4cf2-88f0-84011bfceca9/control running ...\n",
      "\n",
      "Simulation time: 0 seconds.\n",
      "Logging to /home/luca/Projects/plant_science/cyclesgym/wandb/run-20220615_115300-5u3t5fey/files/PPO_1\n",
      "\n",
      "Simulation 2022_06_15_11_53_16-f90c22ee-ee7e-4d08-9fb1-f0eafc2d38da/control running ...\n",
      "\n",
      "Simulation time: 0 seconds.\n",
      "\n",
      "Simulation 2022_06_15_11_53_19-b2b71c36-4056-4072-890f-2223d2e34793/control running ...\n",
      "\n",
      "Simulation time: 0 seconds.\n",
      "\n",
      "Simulation 2022_06_15_11_53_23-7411578f-7682-4618-adc8-9c354870236e/control running ...\n",
      "\n",
      "Simulation time: 0 seconds.\n",
      "\n",
      "Simulation 2022_06_15_11_53_26-a7561144-7389-481a-b354-87f12fc4ec46/control running ...\n",
      "\n",
      "Simulation time: 0 seconds.\n",
      "\n",
      "Simulation 2022_06_15_11_53_29-2ab26a1a-b94c-4c7e-bb02-e01f586a8c37/control running ...\n",
      "\n",
      "Simulation time: 0 seconds.\n",
      "\n",
      "Simulation 2022_06_15_11_53_32-ae47b203-d66c-4437-97d6-3c09e0f4d841/control running ...\n",
      "\n",
      "Simulation time: 1 seconds.\n",
      "\n",
      "Simulation 2022_06_15_11_53_36-8623599d-1de1-4cac-9512-29d1ad081ec8/control running ...\n",
      "\n",
      "Simulation time: 0 seconds.\n",
      "---------------------------------\n",
      "| rollout/           |          |\n",
      "|    ep_len_mean     | 11       |\n",
      "|    ep_rew_mean     | 1.12e+04 |\n",
      "| time/              |          |\n",
      "|    fps             | 3        |\n",
      "|    iterations      | 1        |\n",
      "|    time_elapsed    | 24       |\n",
      "|    total_timesteps | 80       |\n",
      "---------------------------------\n",
      "\n",
      "Simulation 2022_06_15_11_53_39-367ecfee-1aa9-4f1d-ad77-2edc57bb0b97/control running ...\n",
      "\n",
      "Simulation time: 1 seconds.\n",
      "\n",
      "Simulation 2022_06_15_11_53_43-c3d75673-3596-4d1e-a404-95330b8ad519/control running ...\n",
      "\n",
      "Simulation time: 0 seconds.\n",
      "\n",
      "Simulation 2022_06_15_11_53_47-31bae80f-9b96-4dd7-84d2-a04b5721e801/control running ...\n",
      "\n",
      "Simulation time: 0 seconds.\n",
      "\n",
      "Simulation 2022_06_15_11_53_50-9358b33f-cd4e-48e5-aca0-e2a6d9c62a73/control running ...\n",
      "\n",
      "Simulation time: 0 seconds.\n",
      "\n",
      "Simulation 2022_06_15_11_53_54-f25aedd5-3719-4759-8ac9-3cfd127d65df/control running ...\n",
      "\n",
      "Simulation time: 0 seconds.\n",
      "\n",
      "Simulation 2022_06_15_11_53_57-8c925913-5591-4d0b-85bd-1a9952875be1/control running ...\n",
      "\n",
      "Simulation time: 0 seconds.\n",
      "\n",
      "Simulation 2022_06_15_11_54_00-7157c6d0-14b2-49a1-a02f-706f6d8ba944/control running ...\n",
      "\n",
      "Simulation time: 0 seconds.\n",
      "-------------------------------------------\n",
      "| rollout/                |               |\n",
      "|    ep_len_mean          | 11            |\n",
      "|    ep_rew_mean          | 1.08e+04      |\n",
      "| time/                   |               |\n",
      "|    fps                  | 3             |\n",
      "|    iterations           | 2             |\n",
      "|    time_elapsed         | 48            |\n",
      "|    total_timesteps      | 160           |\n",
      "| train/                  |               |\n",
      "|    approx_kl            | 1.5720725e-07 |\n",
      "|    clip_fraction        | 0             |\n",
      "|    clip_range           | 0.2           |\n",
      "|    entropy_loss         | -3.33         |\n",
      "|    explained_variance   | 0             |\n",
      "|    learning_rate        | 0.0003        |\n",
      "|    loss                 | 1.55e+07      |\n",
      "|    n_updates            | 10            |\n",
      "|    policy_gradient_loss | -5.78e-05     |\n",
      "|    value_loss           | 3.11e+07      |\n",
      "-------------------------------------------\n",
      "\n",
      "Simulation 2022_06_15_11_54_03-4c9aaccd-d8de-46f4-94ff-c796cd9faa55/control running ...\n",
      "\n",
      "Simulation time: 0 seconds.\n",
      "\n",
      "Simulation 2022_06_15_11_54_06-d641d60a-5425-4056-9234-9cfdd7e30688/control running ...\n",
      "\n",
      "Simulation time: 0 seconds.\n",
      "\n",
      "Simulation 2022_06_15_11_54_10-ddc9ad75-0fdf-4d76-a75b-2e57d551042e/control running ...\n",
      "\n",
      "Simulation time: 0 seconds.\n",
      "\n",
      "Simulation 2022_06_15_11_54_13-f6ca059c-fcbb-4491-8f6a-158ac675273f/control running ...\n",
      "\n",
      "Simulation time: 0 seconds.\n",
      "\n",
      "Simulation 2022_06_15_11_54_16-62867814-aa35-4f89-a1a0-743f6fbdd8e6/control running ...\n",
      "\n",
      "Simulation time: 0 seconds.\n",
      "\n",
      "Simulation 2022_06_15_11_54_19-39a57b43-e900-4887-96e8-18479256eb99/control running ...\n",
      "\n",
      "Simulation time: 0 seconds.\n",
      "\n",
      "Simulation 2022_06_15_11_54_22-9c3ba5a8-538d-4587-9b5b-b4c0ce1789f4/control running ...\n",
      "\n",
      "Simulation time: 1 seconds.\n",
      "-------------------------------------------\n",
      "| rollout/                |               |\n",
      "|    ep_len_mean          | 11            |\n",
      "|    ep_rew_mean          | 1.07e+04      |\n",
      "| time/                   |               |\n",
      "|    fps                  | 3             |\n",
      "|    iterations           | 3             |\n",
      "|    time_elapsed         | 72            |\n",
      "|    total_timesteps      | 240           |\n",
      "| train/                  |               |\n",
      "|    approx_kl            | 1.3845414e-05 |\n",
      "|    clip_fraction        | 0             |\n",
      "|    clip_range           | 0.2           |\n",
      "|    entropy_loss         | -3.33         |\n",
      "|    explained_variance   | 0             |\n",
      "|    learning_rate        | 0.0003        |\n",
      "|    loss                 | 1.31e+07      |\n",
      "|    n_updates            | 20            |\n",
      "|    policy_gradient_loss | -0.000636     |\n",
      "|    value_loss           | 2.62e+07      |\n",
      "-------------------------------------------\n",
      "\n",
      "Simulation 2022_06_15_11_54_26-5c6ab65b-6f3b-47d5-b495-9e15c6935c50/control running ...\n",
      "\n",
      "Simulation time: 0 seconds.\n",
      "\n",
      "Simulation 2022_06_15_11_54_29-209248f9-abcc-45b9-b309-92139e92776c/control running ...\n",
      "\n",
      "Simulation time: 0 seconds.\n",
      "\n",
      "Simulation 2022_06_15_11_54_32-922aa95f-57c0-4c50-ab4c-2a67972b1e52/control running ...\n",
      "\n",
      "Simulation time: 1 seconds.\n",
      "\n",
      "Simulation 2022_06_15_11_54_36-c79971b1-75d9-4992-bd0b-f6acef718ac3/control running ...\n",
      "\n",
      "Simulation time: 0 seconds.\n",
      "\n",
      "Simulation 2022_06_15_11_54_39-3d54fd1a-e32d-44e3-8cbf-17d76bf4a168/control running ...\n",
      "\n",
      "Simulation time: 0 seconds.\n",
      "\n",
      "Simulation 2022_06_15_11_54_42-53e2597d-9475-4461-bf94-aa3812a29389/control running ...\n",
      "\n",
      "Simulation time: 0 seconds.\n",
      "\n",
      "Simulation 2022_06_15_11_54_45-a4515996-2fb6-4748-8bf3-b498ef2d0c0e/control running ...\n",
      "\n",
      "Simulation time: 0 seconds.\n",
      "\n",
      "Simulation 2022_06_15_11_54_48-97fe9cd1-557b-4b87-a2c7-0afeb10dd63a/control running ...\n",
      "\n",
      "Simulation time: 1 seconds.\n",
      "------------------------------------------\n",
      "| rollout/                |              |\n",
      "|    ep_len_mean          | 11           |\n",
      "|    ep_rew_mean          | 1.04e+04     |\n",
      "| time/                   |              |\n",
      "|    fps                  | 3            |\n",
      "|    iterations           | 4            |\n",
      "|    time_elapsed         | 96           |\n",
      "|    total_timesteps      | 320          |\n",
      "| train/                  |              |\n",
      "|    approx_kl            | 7.900297e-05 |\n",
      "|    clip_fraction        | 0            |\n",
      "|    clip_range           | 0.2          |\n",
      "|    entropy_loss         | -3.33        |\n",
      "|    explained_variance   | 0            |\n",
      "|    learning_rate        | 0.0003       |\n",
      "|    loss                 | 1.31e+07     |\n",
      "|    n_updates            | 30           |\n",
      "|    policy_gradient_loss | -0.00237     |\n",
      "|    value_loss           | 2.62e+07     |\n",
      "------------------------------------------\n",
      "\n",
      "Simulation 2022_06_15_11_54_52-17c924c5-1148-45ea-aaa1-190ac1082b3f/control running ...\n",
      "\n",
      "Simulation time: 0 seconds.\n",
      "\n",
      "Simulation 2022_06_15_11_54_55-f2c7f93b-5913-4f7b-a655-0368e0533af6/control running ...\n",
      "\n",
      "Simulation time: 0 seconds.\n",
      "\n",
      "Simulation 2022_06_15_11_54_58-3d980080-2c22-40a6-9a27-d661d4b4967f/control running ...\n",
      "\n",
      "Simulation time: 0 seconds.\n",
      "\n",
      "Simulation 2022_06_15_11_55_01-d5607dce-71fd-47a6-83b0-b97b307001f3/control running ...\n",
      "\n",
      "Simulation time: 0 seconds.\n",
      "\n",
      "Simulation 2022_06_15_11_55_04-c4b13193-3c1d-4e4e-9466-9cf5df96f6b7/control running ...\n",
      "\n",
      "Simulation time: 0 seconds.\n",
      "\n",
      "Simulation 2022_06_15_11_55_08-c57e3521-3e1f-41e2-b18d-26eb3090512f/control running ...\n",
      "\n",
      "Simulation time: 0 seconds.\n",
      "\n",
      "Simulation 2022_06_15_11_55_11-6094a39a-2e9c-4273-94fb-4cd48da9c3dc/control running ...\n",
      "\n",
      "Simulation time: 0 seconds.\n",
      "-------------------------------------------\n",
      "| rollout/                |               |\n",
      "|    ep_len_mean          | 11            |\n",
      "|    ep_rew_mean          | 1.04e+04      |\n",
      "| time/                   |               |\n",
      "|    fps                  | 3             |\n",
      "|    iterations           | 5             |\n",
      "|    time_elapsed         | 119           |\n",
      "|    total_timesteps      | 400           |\n",
      "| train/                  |               |\n",
      "|    approx_kl            | 3.1323732e-05 |\n",
      "|    clip_fraction        | 0             |\n",
      "|    clip_range           | 0.2           |\n",
      "|    entropy_loss         | -3.33         |\n",
      "|    explained_variance   | 1.19e-07      |\n",
      "|    learning_rate        | 0.0003        |\n",
      "|    loss                 | 1.15e+07      |\n",
      "|    n_updates            | 40            |\n",
      "|    policy_gradient_loss | 0.000163      |\n",
      "|    value_loss           | 2.29e+07      |\n",
      "-------------------------------------------\n"
     ]
    },
    {
     "name": "stdout",
     "output_type": "stream",
     "text": [
      "\n",
      "Simulation 2022_06_15_11_55_14-ad602316-eabb-469b-82b3-6e4c32bffc82/control running ...\n",
      "\n",
      "Simulation time: 0 seconds.\n",
      "\n",
      "Simulation 2022_06_15_11_55_17-e9942e53-c4d9-4109-b9ca-f1ab72c4dbd4/control running ...\n",
      "\n",
      "Simulation time: 0 seconds.\n",
      "\n",
      "Simulation 2022_06_15_11_55_21-5fc799c2-8d1e-4e72-bb14-ef3e29978e43/control running ...\n",
      "\n",
      "Simulation time: 0 seconds.\n",
      "\n",
      "Simulation 2022_06_15_11_55_24-bf9d6bb5-c932-405b-8e95-10e7759ed19e/control running ...\n",
      "\n",
      "Simulation time: 0 seconds.\n",
      "\n",
      "Simulation 2022_06_15_11_55_27-67dd0c0e-eca3-4bc7-906e-ab08aec839f2/control running ...\n",
      "\n",
      "Simulation time: 0 seconds.\n",
      "\n",
      "Simulation 2022_06_15_11_55_30-ccc843b4-25c8-49cf-9de5-83ca41fcf8fb/control running ...\n",
      "\n",
      "Simulation time: 0 seconds.\n",
      "\n",
      "Simulation 2022_06_15_11_55_34-7032835c-e270-4c3d-8a9b-96b9857ef8df/control running ...\n",
      "\n",
      "Simulation time: 0 seconds.\n",
      "-------------------------------------------\n",
      "| rollout/                |               |\n",
      "|    ep_len_mean          | 11            |\n",
      "|    ep_rew_mean          | 1.03e+04      |\n",
      "| time/                   |               |\n",
      "|    fps                  | 3             |\n",
      "|    iterations           | 6             |\n",
      "|    time_elapsed         | 142           |\n",
      "|    total_timesteps      | 480           |\n",
      "| train/                  |               |\n",
      "|    approx_kl            | 2.9310584e-05 |\n",
      "|    clip_fraction        | 0             |\n",
      "|    clip_range           | 0.2           |\n",
      "|    entropy_loss         | -3.33         |\n",
      "|    explained_variance   | 1.79e-07      |\n",
      "|    learning_rate        | 0.0003        |\n",
      "|    loss                 | 1.26e+07      |\n",
      "|    n_updates            | 50            |\n",
      "|    policy_gradient_loss | -0.00132      |\n",
      "|    value_loss           | 2.52e+07      |\n",
      "-------------------------------------------\n",
      "\n",
      "Simulation 2022_06_15_11_55_37-4b34e0b2-2bf0-4ae4-a161-41341b7cffc5/control running ...\n",
      "\n",
      "Simulation time: 0 seconds.\n",
      "\n",
      "Simulation 2022_06_15_11_55_40-4bf5e4a7-634d-4e3b-bb16-b1bfa0820cb2/control running ...\n",
      "\n",
      "Simulation time: 0 seconds.\n",
      "\n",
      "Simulation 2022_06_15_11_55_43-d03bf879-f357-47c6-946a-4f7ef0ef3b29/control running ...\n",
      "\n",
      "Simulation time: 0 seconds.\n",
      "\n",
      "Simulation 2022_06_15_11_55_46-d8cf9a1d-ac51-41f0-93de-1e50a21d6eb0/control running ...\n",
      "\n",
      "Simulation time: 1 seconds.\n",
      "\n",
      "Simulation 2022_06_15_11_55_50-149cdb0b-4de7-4889-a5d3-bc2c68645e7f/control running ...\n",
      "\n",
      "Simulation time: 0 seconds.\n",
      "\n",
      "Simulation 2022_06_15_11_55_53-07fcba74-fa4e-4fdd-9226-187f0638a3de/control running ...\n",
      "\n",
      "Simulation time: 0 seconds.\n",
      "\n",
      "Simulation 2022_06_15_11_55_56-ffc3d4c6-35a0-43fc-b49d-c013a527d951/control running ...\n",
      "\n",
      "Simulation time: 0 seconds.\n",
      "-------------------------------------------\n",
      "| rollout/                |               |\n",
      "|    ep_len_mean          | 11            |\n",
      "|    ep_rew_mean          | 1.02e+04      |\n",
      "| time/                   |               |\n",
      "|    fps                  | 3             |\n",
      "|    iterations           | 7             |\n",
      "|    time_elapsed         | 166           |\n",
      "|    total_timesteps      | 560           |\n",
      "| train/                  |               |\n",
      "|    approx_kl            | 2.1399557e-05 |\n",
      "|    clip_fraction        | 0             |\n",
      "|    clip_range           | 0.2           |\n",
      "|    entropy_loss         | -3.33         |\n",
      "|    explained_variance   | 0             |\n",
      "|    learning_rate        | 0.0003        |\n",
      "|    loss                 | 1.11e+07      |\n",
      "|    n_updates            | 60            |\n",
      "|    policy_gradient_loss | -0.000157     |\n",
      "|    value_loss           | 2.22e+07      |\n",
      "-------------------------------------------\n",
      "\n",
      "Simulation 2022_06_15_11_55_59-04970500-6865-4e77-9e36-0d3097f0c055/control running ...\n",
      "\n",
      "Simulation time: 1 seconds.\n",
      "\n",
      "Simulation 2022_06_15_11_56_03-24a2307c-1ac1-494e-8b1d-f3bd26f5a525/control running ...\n",
      "\n",
      "Simulation time: 0 seconds.\n",
      "\n",
      "Simulation 2022_06_15_11_56_06-f0327c6d-a85a-4c45-8038-ed37ffc6882a/control running ...\n",
      "\n",
      "Simulation time: 0 seconds.\n",
      "\n",
      "Simulation 2022_06_15_11_56_09-09bc9c01-dc49-4e10-b83a-aedc1d309cf3/control running ...\n",
      "\n",
      "Simulation time: 0 seconds.\n",
      "\n",
      "Simulation 2022_06_15_11_56_12-9a3e5e1d-9e26-44ae-9be8-160388317acc/control running ...\n",
      "\n",
      "Simulation time: 0 seconds.\n",
      "\n",
      "Simulation 2022_06_15_11_56_15-f6283339-7cda-461e-b13b-5d5c268e0773/control running ...\n",
      "\n",
      "Simulation time: 1 seconds.\n",
      "\n",
      "Simulation 2022_06_15_11_56_19-1f1eb3ba-b423-4f1b-a2eb-ab32c0d01c08/control running ...\n",
      "\n",
      "Simulation time: 0 seconds.\n",
      "\n",
      "Simulation 2022_06_15_11_56_22-32647b29-3a30-4f86-99d1-53b92d833c8f/control running ...\n",
      "\n",
      "Simulation time: 0 seconds.\n",
      "-------------------------------------------\n",
      "| rollout/                |               |\n",
      "|    ep_len_mean          | 11            |\n",
      "|    ep_rew_mean          | 1.03e+04      |\n",
      "| time/                   |               |\n",
      "|    fps                  | 3             |\n",
      "|    iterations           | 8             |\n",
      "|    time_elapsed         | 189           |\n",
      "|    total_timesteps      | 640           |\n",
      "| train/                  |               |\n",
      "|    approx_kl            | 1.1751801e-05 |\n",
      "|    clip_fraction        | 0             |\n",
      "|    clip_range           | 0.2           |\n",
      "|    entropy_loss         | -3.33         |\n",
      "|    explained_variance   | 0             |\n",
      "|    learning_rate        | 0.0003        |\n",
      "|    loss                 | 1.23e+07      |\n",
      "|    n_updates            | 70            |\n",
      "|    policy_gradient_loss | -0.00046      |\n",
      "|    value_loss           | 2.47e+07      |\n",
      "-------------------------------------------\n",
      "\n",
      "Simulation 2022_06_15_11_56_25-45caa13f-8eee-44b6-b976-1c81d17eb9f9/control running ...\n",
      "\n",
      "Simulation time: 0 seconds.\n",
      "\n",
      "Simulation 2022_06_15_11_56_28-44cefafe-a4bb-4285-b9e4-7376a7855997/control running ...\n",
      "\n",
      "Simulation time: 0 seconds.\n",
      "\n",
      "Simulation 2022_06_15_11_56_31-a1833727-63da-403c-8597-e2d6e765e647/control running ...\n",
      "\n",
      "Simulation time: 0 seconds.\n",
      "\n",
      "Simulation 2022_06_15_11_56_34-2ad28e68-6c6c-437d-86af-12fee05d6a23/control running ...\n",
      "\n",
      "Simulation time: 1 seconds.\n",
      "\n",
      "Simulation 2022_06_15_11_56_38-7ca244c8-0f1a-4d7e-b8ad-46be58b1b45f/control running ...\n",
      "\n",
      "Simulation time: 0 seconds.\n",
      "\n",
      "Simulation 2022_06_15_11_56_41-86976841-bc9b-44c1-85cb-2ef862e6c91d/control running ...\n",
      "\n",
      "Simulation time: 0 seconds.\n",
      "\n",
      "Simulation 2022_06_15_11_56_44-8894b94c-dd2d-42df-bc05-8636a3622f46/control running ...\n",
      "\n",
      "Simulation time: 0 seconds.\n",
      "------------------------------------------\n",
      "| rollout/                |              |\n",
      "|    ep_len_mean          | 11           |\n",
      "|    ep_rew_mean          | 1.02e+04     |\n",
      "| time/                   |              |\n",
      "|    fps                  | 3            |\n",
      "|    iterations           | 9            |\n",
      "|    time_elapsed         | 212          |\n",
      "|    total_timesteps      | 720          |\n",
      "| train/                  |              |\n",
      "|    approx_kl            | 7.941574e-06 |\n",
      "|    clip_fraction        | 0            |\n",
      "|    clip_range           | 0.2          |\n",
      "|    entropy_loss         | -3.33        |\n",
      "|    explained_variance   | -1.19e-07    |\n",
      "|    learning_rate        | 0.0003       |\n",
      "|    loss                 | 1.39e+07     |\n",
      "|    n_updates            | 80           |\n",
      "|    policy_gradient_loss | -0.000202    |\n",
      "|    value_loss           | 2.79e+07     |\n",
      "------------------------------------------\n",
      "\n",
      "Simulation 2022_06_15_11_56_47-e15950ee-fc41-43e4-b19b-ba927162268f/control running ...\n",
      "\n",
      "Simulation time: 0 seconds.\n",
      "\n",
      "Simulation 2022_06_15_11_56_50-179afd79-6d9a-4fa6-a4bf-19950858109c/control running ...\n",
      "\n",
      "Simulation time: 0 seconds.\n",
      "\n",
      "Simulation 2022_06_15_11_56_53-e4eb833e-cc61-4c53-acb2-3b9484894ad3/control running ...\n",
      "\n",
      "Simulation time: 1 seconds.\n",
      "\n",
      "Simulation 2022_06_15_11_56_57-06bee8aa-9451-4ab4-9c5f-abb3d3588eca/control running ...\n",
      "\n",
      "Simulation time: 0 seconds.\n",
      "\n",
      "Simulation 2022_06_15_11_57_00-188c23ba-b37c-40b9-b6e5-e8a12daee969/control running ...\n",
      "\n",
      "Simulation time: 0 seconds.\n",
      "\n",
      "Simulation 2022_06_15_11_57_03-81cd37e3-457d-40db-982d-6e73bb5c44c7/control running ...\n",
      "\n",
      "Simulation time: 0 seconds.\n",
      "\n",
      "Simulation 2022_06_15_11_57_06-a874b9ab-d0a6-4fd1-a3bb-0f1359a2a57c/control running ...\n",
      "\n",
      "Simulation time: 0 seconds.\n",
      "-------------------------------------------\n",
      "| rollout/                |               |\n",
      "|    ep_len_mean          | 11            |\n",
      "|    ep_rew_mean          | 1.03e+04      |\n",
      "| time/                   |               |\n",
      "|    fps                  | 3             |\n",
      "|    iterations           | 10            |\n",
      "|    time_elapsed         | 235           |\n",
      "|    total_timesteps      | 800           |\n",
      "| train/                  |               |\n",
      "|    approx_kl            | 6.5773726e-05 |\n",
      "|    clip_fraction        | 0             |\n",
      "|    clip_range           | 0.2           |\n",
      "|    entropy_loss         | -3.33         |\n",
      "|    explained_variance   | 0             |\n",
      "|    learning_rate        | 0.0003        |\n",
      "|    loss                 | 9.84e+06      |\n",
      "|    n_updates            | 90            |\n",
      "|    policy_gradient_loss | -0.00207      |\n",
      "|    value_loss           | 1.97e+07      |\n",
      "-------------------------------------------\n"
     ]
    },
    {
     "name": "stdout",
     "output_type": "stream",
     "text": [
      "\n",
      "Simulation 2022_06_15_11_57_09-276e6f05-1335-4adc-af62-98df7eb2cca1/control running ...\n",
      "\n",
      "Simulation time: 1 seconds.\n",
      "\n",
      "Simulation 2022_06_15_11_57_13-97fb09b4-1df5-43b6-84c0-21efdfeda6ff/control running ...\n",
      "\n",
      "Simulation time: 0 seconds.\n",
      "\n",
      "Simulation 2022_06_15_11_57_16-2190bfcd-69de-4a2e-b0c0-eb214c2f90f9/control running ...\n",
      "\n",
      "Simulation time: 0 seconds.\n",
      "\n",
      "Simulation 2022_06_15_11_57_19-1d57fd17-93e7-4647-a5eb-b25f4d00ffdc/control running ...\n",
      "\n",
      "Simulation time: 0 seconds.\n",
      "\n",
      "Simulation 2022_06_15_11_57_22-cbd13ff0-b66e-44ae-9860-4aabcc41880c/control running ...\n",
      "\n",
      "Simulation time: 0 seconds.\n",
      "\n",
      "Simulation 2022_06_15_11_57_25-fe80b992-8bed-4c77-88d0-1467c002c7ff/control running ...\n",
      "\n",
      "Simulation time: 0 seconds.\n",
      "\n",
      "Simulation 2022_06_15_11_57_28-7f329899-019c-4ae4-b86f-ce62c728e859/control running ...\n",
      "\n",
      "Simulation time: 1 seconds.\n",
      "\n",
      "Simulation 2022_06_15_11_57_32-104fc262-07be-4686-9d9b-8eade49760f8/control running ...\n",
      "\n",
      "Simulation time: 0 seconds.\n",
      "------------------------------------------\n",
      "| rollout/                |              |\n",
      "|    ep_len_mean          | 11           |\n",
      "|    ep_rew_mean          | 1.04e+04     |\n",
      "| time/                   |              |\n",
      "|    fps                  | 3            |\n",
      "|    iterations           | 11           |\n",
      "|    time_elapsed         | 259          |\n",
      "|    total_timesteps      | 880          |\n",
      "| train/                  |              |\n",
      "|    approx_kl            | 8.171201e-05 |\n",
      "|    clip_fraction        | 0            |\n",
      "|    clip_range           | 0.2          |\n",
      "|    entropy_loss         | -3.33        |\n",
      "|    explained_variance   | 0            |\n",
      "|    learning_rate        | 0.0003       |\n",
      "|    loss                 | 1.53e+07     |\n",
      "|    n_updates            | 100          |\n",
      "|    policy_gradient_loss | -0.000957    |\n",
      "|    value_loss           | 3.07e+07     |\n",
      "------------------------------------------\n",
      "\n",
      "Simulation 2022_06_15_11_57_35-096fee3a-c1f1-4502-b134-6c8fe9082fcb/control running ...\n",
      "\n",
      "Simulation time: 0 seconds.\n",
      "\n",
      "Simulation 2022_06_15_11_57_38-2d6932dd-2134-4d4b-8bd3-19741638c0e3/control running ...\n",
      "\n",
      "Simulation time: 0 seconds.\n",
      "\n",
      "Simulation 2022_06_15_11_57_42-6c9e7d7e-782f-47ce-ad2e-52026679cea6/control running ...\n",
      "\n",
      "Simulation time: 0 seconds.\n",
      "\n",
      "Simulation 2022_06_15_11_57_45-e6d50fca-cddc-4090-aa6e-82b6e276dad4/control running ...\n",
      "\n",
      "Simulation time: 0 seconds.\n",
      "\n",
      "Simulation 2022_06_15_11_57_48-27b728a8-3d77-404f-9bf1-2e10f876db1e/control running ...\n",
      "\n",
      "Simulation time: 0 seconds.\n",
      "\n",
      "Simulation 2022_06_15_11_57_51-bbafefe5-3db3-4886-9a43-ae80842c16c2/control running ...\n",
      "\n",
      "Simulation time: 0 seconds.\n",
      "\n",
      "Simulation 2022_06_15_11_57_54-15391519-e144-4da6-93c9-8428a22e2eb0/control running ...\n",
      "\n",
      "Simulation time: 0 seconds.\n",
      "------------------------------------------\n",
      "| rollout/                |              |\n",
      "|    ep_len_mean          | 11           |\n",
      "|    ep_rew_mean          | 1.03e+04     |\n",
      "| time/                   |              |\n",
      "|    fps                  | 3            |\n",
      "|    iterations           | 12           |\n",
      "|    time_elapsed         | 282          |\n",
      "|    total_timesteps      | 960          |\n",
      "| train/                  |              |\n",
      "|    approx_kl            | 6.798208e-05 |\n",
      "|    clip_fraction        | 0            |\n",
      "|    clip_range           | 0.2          |\n",
      "|    entropy_loss         | -3.33        |\n",
      "|    explained_variance   | 0            |\n",
      "|    learning_rate        | 0.0003       |\n",
      "|    loss                 | 1.46e+07     |\n",
      "|    n_updates            | 110          |\n",
      "|    policy_gradient_loss | -0.00152     |\n",
      "|    value_loss           | 2.92e+07     |\n",
      "------------------------------------------\n",
      "\n",
      "Simulation 2022_06_15_11_57_58-2f409d3c-c1af-4021-b3e4-4ae83be8bb2a/control running ...\n",
      "\n",
      "Simulation time: 0 seconds.\n",
      "\n",
      "Simulation 2022_06_15_11_58_01-62db9e88-3cb9-468a-9701-8399f37cdaed/control running ...\n",
      "\n",
      "Simulation time: 0 seconds.\n",
      "\n",
      "Simulation 2022_06_15_11_58_04-1138d7c0-a786-4459-8704-0b6d4084c368/control running ...\n",
      "\n",
      "Simulation time: 0 seconds.\n",
      "\n",
      "Simulation 2022_06_15_11_58_07-fc0211d8-6e14-42f8-b56f-91a53b6dce83/control running ...\n",
      "\n",
      "Simulation time: 0 seconds.\n",
      "\n",
      "Simulation 2022_06_15_11_58_10-44b12c9c-4852-4e20-9ce9-5f0701bd29ce/control running ...\n",
      "\n",
      "Simulation time: 0 seconds.\n",
      "\n",
      "Simulation 2022_06_15_11_58_13-1168a826-6b86-42a9-a3c3-f9b172b0efcc/control running ...\n",
      "\n",
      "Simulation time: 0 seconds.\n",
      "\n",
      "Simulation 2022_06_15_11_58_16-625a784e-d665-4ead-9a0c-eb02454a49fb/control running ...\n",
      "\n",
      "Simulation time: 0 seconds.\n",
      "------------------------------------------\n",
      "| rollout/                |              |\n",
      "|    ep_len_mean          | 11           |\n",
      "|    ep_rew_mean          | 1.03e+04     |\n",
      "| time/                   |              |\n",
      "|    fps                  | 3            |\n",
      "|    iterations           | 13           |\n",
      "|    time_elapsed         | 305          |\n",
      "|    total_timesteps      | 1040         |\n",
      "| train/                  |              |\n",
      "|    approx_kl            | 9.616763e-05 |\n",
      "|    clip_fraction        | 0            |\n",
      "|    clip_range           | 0.2          |\n",
      "|    entropy_loss         | -3.33        |\n",
      "|    explained_variance   | 0            |\n",
      "|    learning_rate        | 0.0003       |\n",
      "|    loss                 | 1e+07        |\n",
      "|    n_updates            | 120          |\n",
      "|    policy_gradient_loss | -0.0017      |\n",
      "|    value_loss           | 2.01e+07     |\n",
      "------------------------------------------\n"
     ]
    },
    {
     "data": {
      "text/plain": [
       "<stable_baselines3.ppo.ppo.PPO at 0x7f5b6bba1640>"
      ]
     },
     "execution_count": 5,
     "metadata": {},
     "output_type": "execute_result"
    }
   ],
   "source": [
    "model.learn(total_timesteps=config[\"total_timesteps\"], callback=[WandbCallback()])\n",
    "wandb.finish()"
   ]
  },
  {
   "cell_type": "markdown",
   "metadata": {
    "pycharm": {
     "name": "#%% md\n"
    }
   },
   "source": [
    "Here we show how to train a similar agent on a fertilization environment"
   ]
  },
  {
   "cell_type": "code",
   "execution_count": 10,
   "metadata": {
    "pycharm": {
     "name": "#%%\n"
    }
   },
   "outputs": [
    {
     "data": {
      "text/html": [
       "Finishing last run (ID:2pmis0jq) before initializing another..."
      ],
      "text/plain": [
       "<IPython.core.display.HTML object>"
      ]
     },
     "metadata": {},
     "output_type": "display_data"
    },
    {
     "data": {
      "text/html": [
       "Waiting for W&B process to finish... <strong style=\"color:green\">(success).</strong>"
      ],
      "text/plain": [
       "<IPython.core.display.HTML object>"
      ]
     },
     "metadata": {},
     "output_type": "display_data"
    },
    {
     "data": {
      "application/vnd.jupyter.widget-view+json": {
       "model_id": "",
       "version_major": 2,
       "version_minor": 0
      },
      "text/plain": [
       "VBox(children=(Label(value='0.013 MB of 0.013 MB uploaded (0.000 MB deduped)\\r'), FloatProgress(value=1.0, max…"
      ]
     },
     "metadata": {},
     "output_type": "display_data"
    },
    {
     "data": {
      "text/html": [
       "Synced <strong style=\"color:#cdcd00\">solar-sun-9</strong>: <a href=\"https://wandb.ai/lucori/notebook_experiments/runs/2pmis0jq\" target=\"_blank\">https://wandb.ai/lucori/notebook_experiments/runs/2pmis0jq</a><br/>Synced 7 W&B file(s), 0 media file(s), 0 artifact file(s) and 1 other file(s)"
      ],
      "text/plain": [
       "<IPython.core.display.HTML object>"
      ]
     },
     "metadata": {},
     "output_type": "display_data"
    },
    {
     "data": {
      "text/html": [
       "Find logs at: <code>/home/luca/Projects/plant_science/cyclesgym/wandb/run-20220615_120127-2pmis0jq/logs</code>"
      ],
      "text/plain": [
       "<IPython.core.display.HTML object>"
      ]
     },
     "metadata": {},
     "output_type": "display_data"
    },
    {
     "data": {
      "text/html": [
       "Successfully finished last run (ID:2pmis0jq). Initializing new run:<br/>"
      ],
      "text/plain": [
       "<IPython.core.display.HTML object>"
      ]
     },
     "metadata": {},
     "output_type": "display_data"
    },
    {
     "data": {
      "text/html": [
       "wandb version 0.12.18 is available!  To upgrade, please run:\n",
       " $ pip install wandb --upgrade"
      ],
      "text/plain": [
       "<IPython.core.display.HTML object>"
      ]
     },
     "metadata": {},
     "output_type": "display_data"
    },
    {
     "data": {
      "text/html": [
       "Tracking run with wandb version 0.12.16"
      ],
      "text/plain": [
       "<IPython.core.display.HTML object>"
      ]
     },
     "metadata": {},
     "output_type": "display_data"
    },
    {
     "data": {
      "text/html": [
       "Run data is saved locally in <code>/home/luca/Projects/plant_science/cyclesgym/wandb/run-20220615_120343-q27rkptv</code>"
      ],
      "text/plain": [
       "<IPython.core.display.HTML object>"
      ]
     },
     "metadata": {},
     "output_type": "display_data"
    },
    {
     "data": {
      "text/html": [
       "Syncing run <strong><a href=\"https://wandb.ai/lucori/notebook_experiments/runs/q27rkptv\" target=\"_blank\">bumbling-frog-10</a></strong> to <a href=\"https://wandb.ai/lucori/notebook_experiments\" target=\"_blank\">Weights & Biases</a> (<a href=\"https://wandb.me/run\" target=\"_blank\">docs</a>)<br/>"
      ],
      "text/plain": [
       "<IPython.core.display.HTML object>"
      ]
     },
     "metadata": {},
     "output_type": "display_data"
    },
    {
     "ename": "TypeError",
     "evalue": "__init__() got an unexpected keyword argument 'n_weather_samples'",
     "output_type": "error",
     "traceback": [
      "\u001B[0;31m---------------------------------------------------------------------------\u001B[0m",
      "\u001B[0;31mTypeError\u001B[0m                                 Traceback (most recent call last)",
      "Input \u001B[0;32mIn [10]\u001B[0m, in \u001B[0;36m<cell line: 18>\u001B[0;34m()\u001B[0m\n\u001B[1;32m     14\u001B[0m config \u001B[38;5;241m=\u001B[39m wandb\u001B[38;5;241m.\u001B[39mconfig\n\u001B[1;32m     16\u001B[0m env_conf \u001B[38;5;241m=\u001B[39m {key: config[key] \u001B[38;5;28;01mfor\u001B[39;00m key \u001B[38;5;129;01min\u001B[39;00m [\u001B[38;5;124m'\u001B[39m\u001B[38;5;124mstart_year\u001B[39m\u001B[38;5;124m'\u001B[39m, \u001B[38;5;124m'\u001B[39m\u001B[38;5;124mend_year\u001B[39m\u001B[38;5;124m'\u001B[39m, \u001B[38;5;124m'\u001B[39m\u001B[38;5;124mn_weather_samples\u001B[39m\u001B[38;5;124m'\u001B[39m]}\n\u001B[0;32m---> 18\u001B[0m env \u001B[38;5;241m=\u001B[39m \u001B[43mCorn\u001B[49m\u001B[43m(\u001B[49m\u001B[38;5;241;43m*\u001B[39;49m\u001B[38;5;241;43m*\u001B[39;49m\u001B[43menv_conf\u001B[49m\u001B[43m)\u001B[49m\n\u001B[1;32m     19\u001B[0m env \u001B[38;5;241m=\u001B[39m gym\u001B[38;5;241m.\u001B[39mwrappers\u001B[38;5;241m.\u001B[39mRecordEpisodeStatistics(env)\n\u001B[1;32m     21\u001B[0m model \u001B[38;5;241m=\u001B[39m PPO(\u001B[38;5;124m'\u001B[39m\u001B[38;5;124mMlpPolicy\u001B[39m\u001B[38;5;124m'\u001B[39m, env, n_steps\u001B[38;5;241m=\u001B[39mconfig[\u001B[38;5;124m'\u001B[39m\u001B[38;5;124mn_steps\u001B[39m\u001B[38;5;124m'\u001B[39m], batch_size\u001B[38;5;241m=\u001B[39mconfig[\u001B[38;5;124m'\u001B[39m\u001B[38;5;124mbatch_size\u001B[39m\u001B[38;5;124m'\u001B[39m],\n\u001B[1;32m     22\u001B[0m             n_epochs\u001B[38;5;241m=\u001B[39mconfig[\u001B[38;5;124m'\u001B[39m\u001B[38;5;124mn_epochs\u001B[39m\u001B[38;5;124m'\u001B[39m], verbose\u001B[38;5;241m=\u001B[39mconfig[\u001B[38;5;124m'\u001B[39m\u001B[38;5;124mverbose\u001B[39m\u001B[38;5;124m'\u001B[39m], tensorboard_log\u001B[38;5;241m=\u001B[39mwandb\u001B[38;5;241m.\u001B[39mrun\u001B[38;5;241m.\u001B[39mdir,\n\u001B[1;32m     23\u001B[0m             device\u001B[38;5;241m=\u001B[39mconfig[\u001B[38;5;124m'\u001B[39m\u001B[38;5;124mdevice\u001B[39m\u001B[38;5;124m'\u001B[39m])\n",
      "\u001B[0;31mTypeError\u001B[0m: __init__() got an unexpected keyword argument 'n_weather_samples'"
     ]
    }
   ],
   "source": [
    "config = dict(start_year=1980, end_year=1990,\n",
    "              total_timesteps=1000, n_steps=80, batch_size=80, n_epochs=10,\n",
    "              verbose=1, device='cpu', n_weather_samples=50)\n",
    "\n",
    "wandb.init(\n",
    "    config=config,\n",
    "    sync_tensorboard=True,\n",
    "    project='notebook_experiments',\n",
    "    monitor_gym=True,\n",
    "    save_code=True,\n",
    "    dir=PROJECT_PATH,\n",
    ")\n",
    "\n",
    "config = wandb.config\n",
    "\n",
    "env_conf = {key: config[key] for key in ['start_year', 'end_year', 'n_weather_samples']}\n",
    "\n",
    "env = Corn(**env_conf)\n",
    "env = gym.wrappers.RecordEpisodeStatistics(env)\n",
    "\n",
    "model = PPO('MlpPolicy', env, n_steps=config['n_steps'], batch_size=config['batch_size'],\n",
    "            n_epochs=config['n_epochs'], verbose=config['verbose'], tensorboard_log=wandb.run.dir,\n",
    "            device=config['device'])\n",
    "\n",
    "model.learn(total_timesteps=config[\"total_timesteps\"], callback=[WandbCallback()])\n",
    "wandb.finish()"
   ]
  }
 ],
 "metadata": {
  "anaconda-cloud": {},
  "kernelspec": {
   "display_name": "cyclesgym",
   "language": "python",
   "name": "cyclesgym"
  },
  "language_info": {
   "codemirror_mode": {
    "name": "ipython",
    "version": 3
   },
   "file_extension": ".py",
   "mimetype": "text/x-python",
   "name": "python",
   "nbconvert_exporter": "python",
   "pygments_lexer": "ipython3",
   "version": "3.8.13"
  }
 },
 "nbformat": 4,
 "nbformat_minor": 2
}