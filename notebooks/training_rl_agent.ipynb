{
 "cells": [
  {
   "cell_type": "markdown",
   "metadata": {
    "pycharm": {
     "name": "#%% md\n"
    }
   },
   "source": [
    "# Training an RL agent with a standard environment\n",
    "In this notebook, we show how to train an RL agent using the stable-baselines3 library over an environemnt provided by CyclesGym."
   ]
  },
  {
   "cell_type": "code",
   "execution_count": null,
   "outputs": [],
   "source": [
    "from cyclesgym.envs import Corn\n",
    "from cyclesgym.envs.crop_planning import CropPlanningFixedPlantingRandomWeather\n",
    "import numpy as np\n",
    "from cyclesgym.paths import PROJECT_PATH\n",
    "import wandb\n",
    "from wandb.integration.sb3 import WandbCallback\n",
    "import gym\n",
    "from stable_baselines3 import PPO"
   ],
   "metadata": {
    "collapsed": false,
    "pycharm": {
     "name": "#%%\n"
    }
   }
  },
  {
   "cell_type": "markdown",
   "source": [
    "First, we show how to initialize the standard one-year corn environment and print the name of its observation."
   ],
   "metadata": {
    "collapsed": false,
    "pycharm": {
     "name": "#%% md\n"
    }
   }
  },
  {
   "cell_type": "code",
   "execution_count": null,
   "outputs": [],
   "source": [
    "config = dict(start_year=1980, end_year=1990,\n",
    "              total_timesteps=1000, n_steps=80, batch_size=80, n_epochs=10, run_id=0,\n",
    "              norm_reward=True, verbose=1, n_process=8, device='cpu',\n",
    "              n_weather_samples=50, rotation_crops=['CornRM.100', 'SoybeanMG.3'] )\n",
    "\n",
    "wandb.init(\n",
    "    config=config,\n",
    "    sync_tensorboard=True,\n",
    "    project='notebook_experiments',\n",
    "    monitor_gym=True,\n",
    "    save_code=True,\n",
    "    dir=PROJECT_PATH,\n",
    ")\n",
    "\n",
    "config = wandb.config"
   ],
   "metadata": {
    "collapsed": false,
    "pycharm": {
     "name": "#%%\n"
    }
   }
  },
  {
   "cell_type": "code",
   "execution_count": null,
   "outputs": [],
   "source": [
    "env_conf = {key: config[key] for key in ['start_year', 'end_year', 'rotation_crops', 'n_weather_samples']}\n",
    "\n",
    "env = CropPlanningFixedPlantingRandomWeather(**env_conf)\n",
    "env = gym.wrappers.RecordEpisodeStatistics(env)\n",
    "\n",
    "model = PPO('MlpPolicy', env, n_steps=config['n_steps'], batch_size=config['batch_size'],\n",
    "            n_epochs=config['n_epochs'], verbose=config['verbose'], tensorboard_log=dir,\n",
    "            device=config['device'])\n",
    "\n",
    "model.learn(total_timesteps=config[\"total_timesteps\"], callback=[WandbCallback()])"
   ],
   "metadata": {
    "collapsed": false,
    "pycharm": {
     "name": "#%%\n"
    }
   }
  }
 ],
 "metadata": {
  "anaconda-cloud": {},
  "kernelspec": {
   "display_name": "Python 3 (ipykernel)",
   "language": "python",
   "name": "python3"
  },
  "language_info": {
   "codemirror_mode": {
    "name": "ipython",
    "version": 3
   },
   "file_extension": ".py",
   "mimetype": "text/x-python",
   "name": "python",
   "nbconvert_exporter": "python",
   "pygments_lexer": "ipython3",
   "version": "3.8.13"
  }
 },
 "nbformat": 4,
 "nbformat_minor": 2
}