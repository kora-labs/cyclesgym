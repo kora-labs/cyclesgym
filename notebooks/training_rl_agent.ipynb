{
 "cells": [
  {
   "cell_type": "markdown",
   "metadata": {
    "pycharm": {
     "name": "#%% md\n"
    }
   },
   "source": [
    "# Training an RL agent with a standard environment\n",
    "In this notebook, we show how to train an RL agent using the stable-baselines3 library over an environemnt provided by CyclesGym."
   ]
  },
  {
   "cell_type": "code",
   "execution_count": null,
   "metadata": {
    "pycharm": {
     "name": "#%%\n"
    }
   },
   "outputs": [],
   "source": [
    "import gym\n",
    "import cyclesgym\n",
    "import numpy as np\n",
    "import wandb\n",
    "\n",
    "from stable_baselines3 import PPO\n",
    "from stable_baselines3.common.vec_env import SubprocVecEnv, VecMonitor, VecNormalize\n",
    "from wandb.integration.sb3 import WandbCallback\n",
    "\n",
    "from cyclesgym.utils.paths import PROJECT_PATH"
   ]
  },
  {
   "cell_type": "markdown",
   "metadata": {
    "pycharm": {
     "name": "#%% md\n"
    }
   },
   "source": [
    "First, we initalize a wandb session to track all the parameters of interest as well as statistics recorded during training"
   ]
  },
  {
   "cell_type": "code",
   "execution_count": null,
   "metadata": {
    "pycharm": {
     "name": "#%%\n"
    }
   },
   "outputs": [],
   "source": [
    "# Track PPO parameters with wandb\n",
    "config = dict(total_timesteps=1000, \n",
    "              n_steps=80, \n",
    "              batch_size=80, \n",
    "              n_epochs=10, run_id=0, \n",
    "              verbose=1, \n",
    "              n_process=1, \n",
    "              device='cpu')\n",
    "\n",
    "wandb.init(\n",
    "    config=config,\n",
    "    sync_tensorboard=True,\n",
    "    project='notebook_experiments',\n",
    "    monitor_gym=True,\n",
    "    save_code=True,\n",
    "    dir=PROJECT_PATH,\n",
    ")\n",
    "\n",
    "config = wandb.config"
   ]
  },
  {
   "cell_type": "markdown",
   "metadata": {
    "pycharm": {
     "name": "#%% md\n"
    }
   },
   "source": [
    "Subsequently, we initialize the vectorized environment"
   ]
  },
  {
   "cell_type": "code",
   "execution_count": null,
   "metadata": {
    "pycharm": {
     "name": "#%%\n"
    }
   },
   "outputs": [],
   "source": [
    "def env_maker():\n",
    "    # 1-year fertilization environment with fixed weather in Rock Springs\n",
    "    env = gym.make('CornShortRockSpringsFW-v1')\n",
    "    return gym.wrappers.RecordEpisodeStatistics(env)\n",
    "\n",
    "# Vectorize environment\n",
    "env = SubprocVecEnv([env_maker for _ in range(config['n_process'])], start_method='fork')\n",
    "\n",
    "# Monitor\n",
    "env = VecMonitor(env, 'runs')\n",
    "\n",
    "# Normalize values (clipping range high so that, in practice, it does not happen)\n",
    "env = VecNormalize(env, norm_obs=True, norm_reward=True, clip_obs=5000., clip_reward=5000.)\n"
   ]
  },
  {
   "cell_type": "markdown",
   "metadata": {
    "pycharm": {
     "name": "#%% md\n"
    }
   },
   "source": [
    "Finally, we train the model. We can monitor the training in wandb with the link we obtained above after the initializing the wandb session."
   ]
  },
  {
   "cell_type": "code",
   "execution_count": null,
   "metadata": {
    "pycharm": {
     "name": "#%%\n"
    }
   },
   "outputs": [],
   "source": [
    "model = PPO('MlpPolicy', env, n_steps=config['n_steps'], batch_size=config['batch_size'],\n",
    "            n_epochs=config['n_epochs'], verbose=config['verbose'], tensorboard_log=wandb.run.dir,\n",
    "            device=config['device'])\n",
    "\n",
    "model.learn(total_timesteps=config[\"total_timesteps\"], callback=[WandbCallback()])"
   ]
  }
 ],
 "metadata": {
  "anaconda-cloud": {},
  "kernelspec": {
   "display_name": "cyclesgym",
   "language": "python",
   "name": "cyclesgym"
  },
  "language_info": {
   "codemirror_mode": {
    "name": "ipython",
    "version": 3
   },
   "file_extension": ".py",
   "mimetype": "text/x-python",
   "name": "python",
   "nbconvert_exporter": "python",
   "pygments_lexer": "ipython3",
   "version": "3.8.13"
  }
 },
 "nbformat": 4,
 "nbformat_minor": 2
}