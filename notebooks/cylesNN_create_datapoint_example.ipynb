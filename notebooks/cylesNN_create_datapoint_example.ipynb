{
 "cells": [
  {
   "cell_type": "markdown",
   "metadata": {},
   "source": [
    "## How to create a data point for training cyclesNN\n",
    "In this notebook, we show how to specify a desired N fertilization application, run cycles with it, and read the final grain yield."
   ]
  },
  {
   "cell_type": "code",
   "execution_count": null,
   "metadata": {},
   "outputs": [],
   "source": [
    "from pathlib import Path\n",
    "import subprocess\n",
    "import shutil\n",
    "import stat\n",
    "\n",
    "from cyclesgym.managers import *\n",
    "from cyclesgym.paths import CYCLES_PATH\n",
    "\n",
    "INPUT_DIR = CYCLES_PATH.joinpath('input')\n",
    "OUTPUT_DIR = CYCLES_PATH.joinpath('output')"
   ]
  },
  {
   "cell_type": "markdown",
   "metadata": {},
   "source": [
    "### Create desired operation file\n",
    "Start by reading the an existing operation file."
   ]
  },
  {
   "cell_type": "code",
   "execution_count": null,
   "metadata": {},
   "outputs": [],
   "source": [
    "op_manager = OperationManager(INPUT_DIR.joinpath('ContinuousCorn.operation'))\n",
    "print(op_manager)"
   ]
  },
  {
   "cell_type": "markdown",
   "metadata": {},
   "source": [
    "Remove the existing N fertilization and replace it with the one you want to apply, in our case, 80kg of NH4 and 20kg of NO3 applied on the 120th day of the year."
   ]
  },
  {
   "cell_type": "code",
   "execution_count": null,
   "metadata": {},
   "outputs": [],
   "source": [
    "# Operations are stored in a dictionary with (year, doy, operation_type) keys\n",
    "# To remove some operations, we must specify a list of such keys\n",
    "op_manager.delete_operations([(1, 110, 'FIXED_FERTILIZATION')])\n",
    "\n",
    "# To specify the new operation we want to introduce, we must specify its (year, doy, operation_type) key\n",
    "# and the corresponding value, which is another dictionary containing all the necessary parameters.\n",
    "k = (1, 120, 'FIXED_FERTILIZATION')\n",
    "v = {'SOURCE': 'UreaAmmoniumNitrate', \n",
    "     'MASS': 100.0, \n",
    "     'FORM': 'Liquid', \n",
    "     'METHOD': 'Broadcast', \n",
    "     'LAYER': 1.0, \n",
    "     'C_Organic': 0.0, \n",
    "     'C_Charcoal': 0.0, \n",
    "     'N_Organic': 0.0, \n",
    "     'N_Charcoal': 0.0, \n",
    "     'N_NH4': 0.8, \n",
    "     'N_NO3': 0.2, \n",
    "     'P_Organic': 0.0, \n",
    "     'P_CHARCOAL': 0.0, \n",
    "     'P_INORGANIC': 0.0, \n",
    "     'K': 0.0, \n",
    "     'S': 0.0}\n",
    "op_manager.insert_new_operations({k: v})\n",
    "print(op_manager)  # Notice the operations are already sorted by doy, which is important for cycles\n",
    "\n",
    "# Save the new operation file\n",
    "new_op_fname = INPUT_DIR.joinpath('ContinuousCornNew.operation')\n",
    "op_manager.save(new_op_fname)"
   ]
  },
  {
   "cell_type": "markdown",
   "metadata": {},
   "source": [
    "### Create desired control file\n",
    "Subsequently, we must create a new control file to tell cycles to use our new operation file during the simulation. First we need to load the existing control file.\n"
   ]
  },
  {
   "cell_type": "code",
   "execution_count": null,
   "metadata": {},
   "outputs": [],
   "source": [
    "ctrl_manager = ControlManager(INPUT_DIR.joinpath('ContinuousCorn.ctrl'))\n",
    "print(ctrl_manager)"
   ]
  },
  {
   "cell_type": "markdown",
   "metadata": {},
   "source": [
    "Subsequently, we change the OPERATION_FILE field (we also change the end year to have a one year simulation). Similarly to the operation manager, the control file manager stores the data in a dictionary."
   ]
  },
  {
   "cell_type": "code",
   "execution_count": null,
   "metadata": {},
   "outputs": [],
   "source": [
    "ctrl_manager.ctrl_dict['OPERATION_FILE'] = new_op_fname.name\n",
    "ctrl_manager.ctrl_dict['SIMULATION_END_YEAR'] = 1980\n",
    "print(ctrl_manager)\n",
    "\n",
    "# Save\n",
    "new_ctrl_fname = INPUT_DIR.joinpath('ContinuousCornNew.ctrl')\n",
    "ctrl_manager.save(new_ctrl_fname)"
   ]
  },
  {
   "cell_type": "markdown",
   "metadata": {},
   "source": [
    "### Run simulation and get results\n",
    "Now we are ready to call cycles using our newly created control file as input. In the future, it may be nice to have a class to handle this?"
   ]
  },
  {
   "cell_type": "code",
   "execution_count": null,
   "metadata": {},
   "outputs": [],
   "source": [
    "CYCLES_PATH.joinpath('Cycles').chmod(stat.S_IEXEC)  # Make cycles executable\n",
    "subprocess.run(['./Cycles', '-b', new_ctrl_fname.stem], cwd=CYCLES_PATH, stdout=subprocess.DEVNULL)"
   ]
  },
  {
   "cell_type": "markdown",
   "metadata": {},
   "source": [
    "Now we are ready to load the summary of the season that we just simulated. By default, Cycles stores them in a directory with the same name as the control file contained in CYCLES_PATH/output/. Note the season manager stores data in a pandas dataframe."
   ]
  },
  {
   "cell_type": "code",
   "execution_count": null,
   "metadata": {},
   "outputs": [],
   "source": [
    "\n",
    "sea_manager = SeasonManager(OUTPUT_DIR.joinpath(new_ctrl_fname.stem, 'season.dat'))\n",
    "grain_yield = sea_manager.season_df.at[0, 'GRAIN YIELD']\n",
    "print(grain_yield)"
   ]
  },
  {
   "cell_type": "markdown",
   "metadata": {},
   "source": [
    "### Tidy up\n",
    "Let's clean up after ourselves."
   ]
  },
  {
   "cell_type": "code",
   "execution_count": null,
   "metadata": {},
   "outputs": [],
   "source": [
    "# Remove newly created input files\n",
    "new_op_fname.unlink(missing_ok=True)  \n",
    "new_ctrl_fname.unlink(missing_ok=True)\n",
    "\n",
    "# Remove output directory\n",
    "shutil.rmtree(OUTPUT_DIR.joinpath('ContinuousCornNew'))"
   ]
  },
  {
   "cell_type": "markdown",
   "metadata": {},
   "source": [
    "### Let's put this together!\n",
    "Let's write a function that takes as input a list of tuples (doy, kg of NH4, kg of NO3) and outputs a the grain yield of the corresponding fertilization policy."
   ]
  },
  {
   "cell_type": "code",
   "execution_count": null,
   "metadata": {},
   "outputs": [],
   "source": [
    "def N2yield(fertilizations):\n",
    "    \n",
    "    # Operation\n",
    "    print('Creating new operation file...')\n",
    "    op_manager = OperationManager(INPUT_DIR.joinpath('ContinuousCorn.operation'))\n",
    "    op_manager.delete_operations([(1, 110, 'FIXED_FERTILIZATION')]) # We should be checking if this deletes other fertilizations e.g. C and, in case, preserve those operations.\n",
    "    \n",
    "    new_operations = {}\n",
    "    for fert in fertilizations:\n",
    "        doy, NH4, NO3 = fert  # Should validate input\n",
    "        mass = NH4 + NO3\n",
    "        NH4_ratio = NH4 / mass\n",
    "        NO3_ratio = NO3 / mass\n",
    "        k = (1, doy, 'FIXED_FERTILIZATION')\n",
    "        v = {'SOURCE': 'UreaAmmoniumNitrate', \n",
    "             'MASS': mass, \n",
    "             'FORM': 'Liquid', \n",
    "             'METHOD': 'Broadcast', \n",
    "             'LAYER': 1.0, \n",
    "             'C_Organic': 0.0, \n",
    "             'C_Charcoal': 0.0, \n",
    "             'N_Organic': 0.0, \n",
    "             'N_Charcoal': 0.0, \n",
    "             'N_NH4': NH4_ratio, \n",
    "             'N_NO3': NO3_ratio, \n",
    "             'P_Organic': 0.0, \n",
    "             'P_CHARCOAL': 0.0, \n",
    "             'P_INORGANIC': 0.0, \n",
    "             'K': 0.0, \n",
    "             'S': 0.0}\n",
    "        new_operations.update({k:v})\n",
    "    \n",
    "    op_manager.insert_new_operations(new_operations)\n",
    "    new_op_fname = INPUT_DIR.joinpath('ContinuousCornTemp.operation')\n",
    "\n",
    "    op_manager.save(new_op_fname)\n",
    "    \n",
    "    # Control\n",
    "    print('Creating new control file...')\n",
    "    ctrl_manager = ControlManager(INPUT_DIR.joinpath('ContinuousCorn.ctrl'))\n",
    "    ctrl_manager.ctrl_dict['OPERATION_FILE'] = new_op_fname.name\n",
    "    ctrl_manager.ctrl_dict['SIMULATION_END_YEAR'] = 1980 # Not necessary\n",
    "    new_ctrl_fname = INPUT_DIR.joinpath('ContinuousCornTemp.ctrl')\n",
    "    ctrl_manager.save(new_ctrl_fname)\n",
    "    \n",
    "    # Cycles\n",
    "    print('Running simulation...')\n",
    "    subprocess.run(['./Cycles', '-b', new_ctrl_fname.stem], cwd=CYCLES_PATH, stdout=subprocess.DEVNULL)\n",
    "    \n",
    "    # Season\n",
    "    print('Reading results...')\n",
    "    sea_manager = SeasonManager(OUTPUT_DIR.joinpath(new_ctrl_fname.stem, 'season.dat'))\n",
    "    grain_yield = sea_manager.season_df.at[0, 'GRAIN YIELD']\n",
    "    \n",
    "    # Clean up\n",
    "    print('Tidying up...')\n",
    "    # Remove newly created input files\n",
    "    new_op_fname.unlink(missing_ok=True)  \n",
    "    new_ctrl_fname.unlink(missing_ok=True)\n",
    "\n",
    "    # Remove output directory\n",
    "    shutil.rmtree(OUTPUT_DIR.joinpath(new_ctrl_fname.stem))\n",
    "    \n",
    "    return(grain_yield)\n",
    "    \n",
    "fertilizations = [(110, 150, 60), (150, 10, 20)]\n",
    "N2yield(fertilizations)\n",
    "    "
   ]
  },
  {
   "cell_type": "code",
   "execution_count": null,
   "metadata": {},
   "outputs": [],
   "source": []
  }
 ],
 "metadata": {
  "anaconda-cloud": {},
  "kernelspec": {
   "display_name": "Python [conda env:cyclesgym]",
   "language": "python",
   "name": "conda-env-cyclesgym-py"
  },
  "language_info": {
   "codemirror_mode": {
    "name": "ipython",
    "version": 3
   },
   "file_extension": ".py",
   "mimetype": "text/x-python",
   "name": "python",
   "nbconvert_exporter": "python",
   "pygments_lexer": "ipython3",
   "version": "3.8.12"
  }
 },
 "nbformat": 4,
 "nbformat_minor": 2
}
