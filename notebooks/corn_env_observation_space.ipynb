{
 "cells": [
  {
   "cell_type": "markdown",
   "metadata": {},
   "source": [
    "# Composition of observation spaces for corn environment\n",
    "In this notebook, we show how to compose different observation spaces for a one-year corn environment"
   ]
  },
  {
   "cell_type": "code",
   "execution_count": 1,
   "metadata": {},
   "outputs": [],
   "source": [
    "from cyclesgym.envs import Corn\n",
    "import numpy as np"
   ]
  },
  {
   "cell_type": "markdown",
   "metadata": {},
   "source": [
    "First, we show how to initialize the standard one-year corn environment and print the name of its observation."
   ]
  },
  {
   "cell_type": "code",
   "execution_count": 2,
   "metadata": {},
   "outputs": [
    {
     "name": "stdout",
     "output_type": "stream",
     "text": [
      "\n",
      "Simulation 2022_05_25_22_29_40-d413f632-e607-417b-aa99-448e6ae154e3/control running ...\n",
      "\n",
      "Simulation time: 0 seconds.\n"
     ]
    },
    {
     "name": "stderr",
     "output_type": "stream",
     "text": [
      "/Users/scottsussex/Documents/ETH/agroscope/cyclesgym/cyclesgym/managers/operation.py:93: UserWarning: There is already an operation FIXED_FERTILIZATION for they day 110 of year 1.\n",
      "  warnings.warn(f'There is already an operation {operation} for they day {doy} of year {year}.')\n"
     ]
    },
    {
     "data": {
      "text/plain": [
       "['LATITUDE',\n",
       " 'ALTITUDE',\n",
       " 'SCREENING_HEIGHT',\n",
       " 'PP',\n",
       " 'TX',\n",
       " 'TN',\n",
       " 'SOLAR',\n",
       " 'RHX',\n",
       " 'RHN',\n",
       " 'WIND',\n",
       " 'STAGE',\n",
       " 'THERMAL TIME',\n",
       " 'CUM. BIOMASS',\n",
       " 'AG BIOMASS',\n",
       " 'ROOT BIOMASS',\n",
       " 'FRAC INTERCEP',\n",
       " 'TOTAL N',\n",
       " 'AG N',\n",
       " 'ROOT N',\n",
       " 'AG N CONCN',\n",
       " 'N FIXATION',\n",
       " 'N ADDED',\n",
       " 'N STRESS',\n",
       " 'WATER STRESS',\n",
       " 'POTENTIAL TR',\n",
       " 'DOY',\n",
       " 'N TO DATE']"
      ]
     },
     "execution_count": 2,
     "metadata": {},
     "output_type": "execute_result"
    }
   ],
   "source": [
    "delta = 7 # Time discretization of 7 days\n",
    "n_actions = 11 # 11 discrete actions\n",
    "maxN = 150 # actions equally spaced in [0, 150]\n",
    "\n",
    "# Initialize a single year corn environment \n",
    "base_corn_env = Corn(delta=delta, n_actions=n_actions, maxN=maxN)  \n",
    "\n",
    "# Get an observation (needed to initialize the observer)\n",
    "s = base_corn_env.reset()\n",
    "\n",
    "# Print observation names\n",
    "base_corn_env.observer.obs_names"
   ]
  },
  {
   "cell_type": "markdown",
   "metadata": {},
   "source": [
    "Now, we show how to override a the standard corn env to obtain an environment with more complex observations. To this end, we change __init__ to make Cycles write the Nitrogen profile as output. Then, we initialize the corresponding manager. Finally, we use that manager to define a compound observation space."
   ]
  },
  {
   "cell_type": "code",
   "execution_count": 3,
   "metadata": {},
   "outputs": [],
   "source": [
    "import cyclesgym.envs.observers as observers\n",
    "from cyclesgym.managers import SoilNManager\n",
    "from cyclesgym.envs.common import CyclesEnv\n",
    "\n",
    "class CornSoilCropWeatherObs(Corn):\n",
    "    # Need to write N to output\n",
    "    def __init__(self,\n",
    "                 delta,\n",
    "                 n_actions,\n",
    "                 maxN,\n",
    "                 operation_file='ContinuousCorn.operation',\n",
    "                 soil_file='GenericHagerstown.soil',\n",
    "                 weather_file='RockSprings.weather',\n",
    "                 start_year=1980,\n",
    "                 end_year=1980,\n",
    "                 use_reinit=True\n",
    "                 ):\n",
    "        self.rotation_size = end_year - start_year + 1\n",
    "        self.use_reinit = use_reinit\n",
    "        CyclesEnv.__init__(self, \n",
    "                          SIMULATION_START_YEAR=1980,\n",
    "                         SIMULATION_END_YEAR=1980,\n",
    "                         ROTATION_SIZE=1,\n",
    "                         USE_REINITIALIZATION=0,\n",
    "                         ADJUSTED_YIELDS=0,\n",
    "                         HOURLY_INFILTRATION=1,\n",
    "                         AUTOMATIC_NITROGEN=0,\n",
    "                         AUTOMATIC_PHOSPHORUS=0,\n",
    "                         AUTOMATIC_SULFUR=0,\n",
    "                         DAILY_WEATHER_OUT=0,\n",
    "                         DAILY_CROP_OUT=1,\n",
    "                         DAILY_RESIDUE_OUT=0,\n",
    "                         DAILY_WATER_OUT=0,\n",
    "                         DAILY_NITROGEN_OUT=1,  \n",
    "                         DAILY_SOIL_CARBON_OUT=0,\n",
    "                         DAILY_SOIL_LYR_CN_OUT=0,\n",
    "                         ANNUAL_SOIL_OUT=0,\n",
    "                         ANNUAL_PROFILE_OUT=0,\n",
    "                         ANNUAL_NFLUX_OUT=0,\n",
    "                         CROP_FILE='GenericCrops.crop',\n",
    "                         OPERATION_FILE=operation_file,\n",
    "                         SOIL_FILE=soil_file,\n",
    "                         WEATHER_FILE=weather_file,\n",
    "                         REINIT_FILE='N / A',\n",
    "                         delta=delta)\n",
    "        self._post_init_setup()\n",
    "        self._init_observer()\n",
    "        self._generate_observation_space()\n",
    "        self._generate_action_space(n_actions, maxN)\n",
    "    \n",
    "    # Add N manager to fields\n",
    "    def _post_init_setup(self):\n",
    "        super()._post_init_setup()\n",
    "        self.soil_n_file = None\n",
    "        self.soil_n_manager = None\n",
    "    \n",
    "    # Initialize soil N manager\n",
    "    def _init_output_managers(self):\n",
    "        super()._init_output_managers()\n",
    "        self.soil_n_file = self._get_output_dir().joinpath('N.dat')\n",
    "        self.soil_n_manager = SoilNManager(self.soil_n_file)\n",
    "    \n",
    "    # Add observer of soild to compoud one\n",
    "    def _init_observer(self, *args, **kwargs):\n",
    "        end_year = self.ctrl_base_manager.ctrl_dict['SIMULATION_END_YEAR']\n",
    "        self.observer = observers.compound_observer([\n",
    "            observers.WeatherObserver(weather_manager=self.weather_manager, end_year=end_year),\n",
    "            observers.CropObserver(crop_manager=self.crop_output_manager, end_year=end_year),\n",
    "            observers.SoilNObserver(soil_n_manager=self.soil_n_manager, end_year=end_year),\n",
    "            observers.NToDateObserver(end_year=end_year)\n",
    "                                           ])\n",
    "        \n",
    "    "
   ]
  },
  {
   "cell_type": "markdown",
   "metadata": {},
   "source": [
    "Now we take a look at the observation space of our newly created environment"
   ]
  },
  {
   "cell_type": "code",
   "execution_count": 4,
   "metadata": {},
   "outputs": [
    {
     "name": "stdout",
     "output_type": "stream",
     "text": [
      "\n",
      "Simulation 2022_05_25_22_31_30-0c5d1df6-1b30-4bf5-9ed3-6c75fb2516e8/control running ...\n",
      "\n",
      "Simulation time: 0 seconds.\n"
     ]
    },
    {
     "name": "stderr",
     "output_type": "stream",
     "text": [
      "/Users/scottsussex/Documents/ETH/agroscope/cyclesgym/cyclesgym/managers/operation.py:93: UserWarning: There is already an operation FIXED_FERTILIZATION for they day 110 of year 1.\n",
      "  warnings.warn(f'There is already an operation {operation} for they day {doy} of year {year}.')\n"
     ]
    },
    {
     "data": {
      "text/plain": [
       "['LATITUDE',\n",
       " 'ALTITUDE',\n",
       " 'SCREENING_HEIGHT',\n",
       " 'PP',\n",
       " 'TX',\n",
       " 'TN',\n",
       " 'SOLAR',\n",
       " 'RHX',\n",
       " 'RHN',\n",
       " 'WIND',\n",
       " 'STAGE',\n",
       " 'THERMAL TIME',\n",
       " 'CUM. BIOMASS',\n",
       " 'AG BIOMASS',\n",
       " 'ROOT BIOMASS',\n",
       " 'FRAC INTERCEP',\n",
       " 'TOTAL N',\n",
       " 'AG N',\n",
       " 'ROOT N',\n",
       " 'AG N CONCN',\n",
       " 'N FIXATION',\n",
       " 'N ADDED',\n",
       " 'N STRESS',\n",
       " 'WATER STRESS',\n",
       " 'POTENTIAL TR',\n",
       " 'ORG SOIL N',\n",
       " 'PROF SOIL NO3',\n",
       " 'PROF SOIL NH4',\n",
       " 'MINERALIZATION',\n",
       " 'IMMOBILIZATION',\n",
       " 'NET MINERALIZ',\n",
       " 'NH4 NITRIFICAT',\n",
       " 'N2O FROM NITRIF',\n",
       " 'NH3 VOLATILIZ',\n",
       " 'NO3 DENITRIF',\n",
       " 'N2O FROM DENIT',\n",
       " 'DOY',\n",
       " 'N TO DATE']"
      ]
     },
     "execution_count": 4,
     "metadata": {},
     "output_type": "execute_result"
    }
   ],
   "source": [
    "large_obs_corn_env = CornSoilCropWeatherObs(delta=delta, n_actions=n_actions, maxN=maxN)\n",
    "s = large_obs_corn_env.reset()\n",
    "large_obs_corn_env.observer.obs_names"
   ]
  },
  {
   "cell_type": "markdown",
   "metadata": {},
   "source": [
    "Finally, we use the PartialObsEnv wrapper to get rid of the observations we do not want to use."
   ]
  },
  {
   "cell_type": "code",
   "execution_count": 5,
   "metadata": {},
   "outputs": [
    {
     "name": "stdout",
     "output_type": "stream",
     "text": [
      "\n",
      "Simulation 2022_05_25_22_31_35-a049dc97-e766-403e-bb61-1c03b96aaa66/control running ...\n",
      "\n",
      "Simulation time: 0 seconds.\n"
     ]
    },
    {
     "name": "stderr",
     "output_type": "stream",
     "text": [
      "/Users/scottsussex/Documents/ETH/agroscope/cyclesgym/cyclesgym/managers/operation.py:93: UserWarning: There is already an operation FIXED_FERTILIZATION for they day 110 of year 1.\n",
      "  warnings.warn(f'There is already an operation {operation} for they day {doy} of year {year}.')\n"
     ]
    },
    {
     "data": {
      "text/plain": [
       "['PP',\n",
       " 'TX',\n",
       " 'TN',\n",
       " 'SOLAR',\n",
       " 'RHX',\n",
       " 'RHN',\n",
       " 'STAGE',\n",
       " 'CUM. BIOMASS',\n",
       " 'N STRESS',\n",
       " 'WATER STRESS',\n",
       " 'ORG SOIL N',\n",
       " 'PROF SOIL NO3',\n",
       " 'PROF SOIL NH4']"
      ]
     },
     "execution_count": 5,
     "metadata": {},
     "output_type": "execute_result"
    }
   ],
   "source": [
    "from cyclesgym.envs.common import PartialObsEnv\n",
    "target_obs = ['PP', # Precipitation\n",
    "              'TX', # Max temperature\n",
    "              'TN', # Min temperature\n",
    "              'SOLAR', # Radiation\n",
    "              'RHX', # Max relative humidity\n",
    "              'RHN', # Min relative humidity\n",
    "              'STAGE', # Stage in the plant life cycle\n",
    "              'CUM. BIOMASS', # Cumulative plant biomass\n",
    "              'N STRESS', \n",
    "              'WATER STRESS',\n",
    "              'ORG SOIL N', # The sum of microbial biomass N and stabilized soil organic N pools.\n",
    "              'PROF SOIL NO3', # Soil profile nitrate-N content.\n",
    "              'PROF SOIL NH4' # Soil profile ammonium-N content.\n",
    "             ]\n",
    "mask = np.isin(np.asarray(large_obs_corn_env.observer.obs_names), target_obs)\n",
    "smart_obs_corn_env = PartialObsEnv(CornSoilCropWeatherObs(delta=delta, n_actions=n_actions, maxN=maxN), mask=mask)\n",
    "smart_obs_corn_env.reset()\n",
    "smart_obs_corn_env.observer.obs_names"
   ]
  },
  {
   "cell_type": "code",
   "execution_count": null,
   "metadata": {},
   "outputs": [],
   "source": []
  }
 ],
 "metadata": {
  "anaconda-cloud": {},
  "kernelspec": {
   "display_name": "Python [conda env:cyclesgym]",
   "language": "python",
   "name": "conda-env-cyclesgym-py"
  },
  "language_info": {
   "codemirror_mode": {
    "name": "ipython",
    "version": 3
   },
   "file_extension": ".py",
   "mimetype": "text/x-python",
   "name": "python",
   "nbconvert_exporter": "python",
   "pygments_lexer": "ipython3",
   "version": "3.8.13"
  }
 },
 "nbformat": 4,
 "nbformat_minor": 2
}
