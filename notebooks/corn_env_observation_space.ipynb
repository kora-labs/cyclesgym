{
 "cells": [
  {
   "cell_type": "markdown",
   "metadata": {
    "pycharm": {
     "name": "#%% md\n"
    }
   },
   "source": [
    "# Composition of observation spaces for corn environment\n",
    "In this notebook, we show how to compose different observation spaces for a one-year corn environment"
   ]
  },
  {
   "cell_type": "code",
   "execution_count": null,
   "metadata": {
    "pycharm": {
     "name": "#%%\n"
    }
   },
   "outputs": [],
   "source": [
    "from cyclesgym.envs import Corn\n",
    "import numpy as np"
   ]
  },
  {
   "cell_type": "markdown",
   "metadata": {
    "pycharm": {
     "name": "#%% md\n"
    }
   },
   "source": [
    "First, we show how to initialize the standard one-year corn environment and print the name of its observation."
   ]
  },
  {
   "cell_type": "code",
   "execution_count": null,
   "metadata": {
    "pycharm": {
     "name": "#%%\n"
    }
   },
   "outputs": [],
   "source": [
    "delta = 7 # Time discretization of 7 days\n",
    "n_actions = 11 # 11 discrete actions\n",
    "maxN = 150 # actions equally spaced in [0, 150]\n",
    "\n",
    "# Initialize a single year corn environment \n",
    "base_corn_env = Corn(delta=delta, n_actions=n_actions, maxN=maxN)  \n",
    "\n",
    "# Get an observation (needed to initialize the observer)\n",
    "s = base_corn_env.reset()\n",
    "\n",
    "# Print observation names\n",
    "base_corn_env.observer.obs_names"
   ]
  },
  {
   "cell_type": "markdown",
   "metadata": {
    "pycharm": {
     "name": "#%% md\n"
    }
   },
   "source": [
    "Now, we show how to override a the standard corn env to obtain an environment with more complex observations. To this end, we change __init__ to make Cycles write the Nitrogen profile as output. Then, we initialize the corresponding manager. Finally, we use that manager to define a compound observation space."
   ]
  },
  {
   "cell_type": "code",
   "execution_count": null,
   "metadata": {
    "pycharm": {
     "name": "#%%\n"
    }
   },
   "outputs": [],
   "source": [
    "import cyclesgym.envs.observers as observers\n",
    "from cyclesgym.managers import SoilNManager\n",
    "from cyclesgym.envs.common import CyclesEnv\n",
    "\n",
    "class CornSoilCropWeatherObs(Corn):\n",
    "    # Need to write N to output\n",
    "    def __init__(self,\n",
    "                 delta,\n",
    "                 n_actions,\n",
    "                 maxN,\n",
    "                 operation_file='ContinuousCorn.operation',\n",
    "                 soil_file='GenericHagerstown.soil',\n",
    "                 weather_file='RockSprings.weather',\n",
    "                 start_year=1980,\n",
    "                 end_year=1980,\n",
    "                 use_reinit=True\n",
    "                 ):\n",
    "        self.rotation_size = end_year - start_year + 1\n",
    "        self.use_reinit = use_reinit\n",
    "        CyclesEnv.__init__(self, \n",
    "                          SIMULATION_START_YEAR=1980,\n",
    "                         SIMULATION_END_YEAR=1980,\n",
    "                         ROTATION_SIZE=1,\n",
    "                         USE_REINITIALIZATION=0,\n",
    "                         ADJUSTED_YIELDS=0,\n",
    "                         HOURLY_INFILTRATION=1,\n",
    "                         AUTOMATIC_NITROGEN=0,\n",
    "                         AUTOMATIC_PHOSPHORUS=0,\n",
    "                         AUTOMATIC_SULFUR=0,\n",
    "                         DAILY_WEATHER_OUT=0,\n",
    "                         DAILY_CROP_OUT=1,\n",
    "                         DAILY_RESIDUE_OUT=0,\n",
    "                         DAILY_WATER_OUT=0,\n",
    "                         DAILY_NITROGEN_OUT=1,  \n",
    "                         DAILY_SOIL_CARBON_OUT=0,\n",
    "                         DAILY_SOIL_LYR_CN_OUT=0,\n",
    "                         ANNUAL_SOIL_OUT=0,\n",
    "                         ANNUAL_PROFILE_OUT=0,\n",
    "                         ANNUAL_NFLUX_OUT=0,\n",
    "                         CROP_FILE='GenericCrops.crop',\n",
    "                         OPERATION_FILE=operation_file,\n",
    "                         SOIL_FILE=soil_file,\n",
    "                         WEATHER_FILE=weather_file,\n",
    "                         REINIT_FILE='N / A',\n",
    "                         delta=delta)\n",
    "        self._post_init_setup()\n",
    "        self._init_observer()\n",
    "        self._generate_observation_space()\n",
    "        self._generate_action_space(n_actions, maxN)\n",
    "    \n",
    "    # Add N manager to fields\n",
    "    def _post_init_setup(self):\n",
    "        super()._post_init_setup()\n",
    "        self.soil_n_file = None\n",
    "        self.soil_n_manager = None\n",
    "    \n",
    "    # Initialize soil N manager\n",
    "    def _init_output_managers(self):\n",
    "        super()._init_output_managers()\n",
    "        self.soil_n_file = self._get_output_dir().joinpath('N.dat')\n",
    "        self.soil_n_manager = SoilNManager(self.soil_n_file)\n",
    "    \n",
    "    # Add observer of soild to compoud one\n",
    "    def _init_observer(self, *args, **kwargs):\n",
    "        end_year = self.ctrl_base_manager.ctrl_dict['SIMULATION_END_YEAR']\n",
    "        self.observer = observers.compound_observer([\n",
    "            observers.WeatherObserver(weather_manager=self.weather_manager, end_year=end_year),\n",
    "            observers.CropObserver(crop_manager=self.crop_output_manager, end_year=end_year),\n",
    "            observers.SoilNObserver(soil_n_manager=self.soil_n_manager, end_year=end_year),\n",
    "            observers.NToDateObserver(end_year=end_year)\n",
    "                                           ])\n",
    "        \n",
    "    "
   ]
  },
  {
   "cell_type": "markdown",
   "metadata": {
    "pycharm": {
     "name": "#%% md\n"
    }
   },
   "source": [
    "Now we take a look at the observation space of our newly created environment"
   ]
  },
  {
   "cell_type": "code",
   "execution_count": null,
   "metadata": {
    "pycharm": {
     "name": "#%%\n"
    }
   },
   "outputs": [],
   "source": [
    "large_obs_corn_env = CornSoilCropWeatherObs(delta=delta, n_actions=n_actions, maxN=maxN)\n",
    "s = large_obs_corn_env.reset()\n",
    "large_obs_corn_env.observer.obs_names"
   ]
  },
  {
   "cell_type": "markdown",
   "metadata": {
    "pycharm": {
     "name": "#%% md\n"
    }
   },
   "source": [
    "Finally, we use the PartialObsEnv wrapper to get rid of the observations we do not want to use."
   ]
  },
  {
   "cell_type": "code",
   "execution_count": null,
   "metadata": {
    "pycharm": {
     "name": "#%%\n"
    }
   },
   "outputs": [],
   "source": [
    "from cyclesgym.envs.common import PartialObsEnv\n",
    "target_obs = ['PP', # Precipitation\n",
    "              'TX', # Max temperature\n",
    "              'TN', # Min temperature\n",
    "              'SOLAR', # Radiation\n",
    "              'RHX', # Max relative humidity\n",
    "              'RHN', # Min relative humidity\n",
    "              'STAGE', # Stage in the plant life cycle\n",
    "              'CUM. BIOMASS', # Cumulative plant biomass\n",
    "              'N STRESS', \n",
    "              'WATER STRESS',\n",
    "              'ORG SOIL N', # The sum of microbial biomass N and stabilized soil organic N pools.\n",
    "              'PROF SOIL NO3', # Soil profile nitrate-N content.\n",
    "              'PROF SOIL NH4' # Soil profile ammonium-N content.\n",
    "             ]\n",
    "mask = np.isin(np.asarray(large_obs_corn_env.observer.obs_names), target_obs)\n",
    "smart_obs_corn_env = PartialObsEnv(CornSoilCropWeatherObs(delta=delta, n_actions=n_actions, maxN=maxN), mask=mask)\n",
    "smart_obs_corn_env.reset()\n",
    "smart_obs_corn_env.observer.obs_names"
   ]
  },
  {
   "cell_type": "code",
   "execution_count": null,
   "metadata": {
    "pycharm": {
     "name": "#%%\n"
    }
   },
   "outputs": [],
   "source": []
  }
 ],
 "metadata": {
  "anaconda-cloud": {},
  "kernelspec": {
   "display_name": "Python 3 (ipykernel)",
   "language": "python",
   "name": "python3"
  },
  "language_info": {
   "codemirror_mode": {
    "name": "ipython",
    "version": 3
   },
   "file_extension": ".py",
   "mimetype": "text/x-python",
   "name": "python",
   "nbconvert_exporter": "python",
   "pygments_lexer": "ipython3",
   "version": "3.9.12"
  }
 },
 "nbformat": 4,
 "nbformat_minor": 2
}