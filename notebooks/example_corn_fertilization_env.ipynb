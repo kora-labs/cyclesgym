{
 "cells": [
  {
   "cell_type": "markdown",
   "id": "ec87d90e",
   "metadata": {},
   "source": [
    "## Example of usage of corn fertilization environment\n",
    "\n",
    "Here, we present an example of how to use the basic corn fertilization environment to simulate an expert fertilizaiton policy based on the [recommendations by the Pennsylvania state university](https://extension.psu.edu/nitrogen-fertilization-of-corn). The simulation will be for the years 1980 and 1981 with fixed weather from Rock Springs, PA."
   ]
  },
  {
   "cell_type": "code",
   "execution_count": null,
   "id": "215346f4",
   "metadata": {},
   "outputs": [],
   "source": [
    "from cyclesgym.envs import Corn\n",
    "from cyclesgym.envs.weather_generator import FixedWeatherGenerator\n",
    "from cyclesgym.utils.paths import CYCLES_PATH  # Path to Cycles directory\n",
    "from cyclesgym.managers import OperationManager\n",
    "from cyclesgym.policies.dummy_policies import OpenLoopPolicy\n",
    "\n",
    "import matplotlib.pyplot as plt\n",
    "import numpy as np\n",
    "\n",
    "%matplotlib inline"
   ]
  },
  {
   "cell_type": "markdown",
   "id": "e7673496",
   "metadata": {},
   "source": [
    "First, we want to define the default operations, i.e., those operations that we want to perform but that are not controlled by the RL agents (e.g., irrigation, tillage, planting, and fertilization of nutrients different from N). We do this by loading and inspecting an existing operation file."
   ]
  },
  {
   "cell_type": "code",
   "execution_count": null,
   "id": "3bd0a198",
   "metadata": {},
   "outputs": [],
   "source": [
    "op_manager = OperationManager(CYCLES_PATH.joinpath('input', 'ContinuousCorn.operation'))\n",
    "print(op_manager)"
   ]
  },
  {
   "cell_type": "markdown",
   "id": "711be40c",
   "metadata": {},
   "source": [
    "We can see there are 3 operations: N fertilization, planting, and tillage. N fertilization will be zeroed out automatically not to interfere with the decisions of the RL agents. \n",
    "\n",
    "Let's define a temporary operation file without tillage to see how one can specify custom default operations.\n",
    "\n",
    "Internally, the operation manager stores all the operations in a dictionary with keys of the type (YEAR, DOY, OP_TYPE). We can provide a list of such keys to the `delete_operations` method of the manager to remove the desired operations."
   ]
  },
  {
   "cell_type": "code",
   "execution_count": null,
   "id": "09229ae3",
   "metadata": {},
   "outputs": [],
   "source": [
    "# Delete the operation\n",
    "op_manager.delete_operations([(1, 110, 'TILLAGE')])\n",
    "print(op_manager)\n",
    "\n",
    "# Save the new operation file to make it available to Cycles\n",
    "new_op_path = CYCLES_PATH.joinpath('input', 'ContinuousCornNoTillageExample.operation')\n",
    "op_manager.save(new_op_path)"
   ]
  },
  {
   "cell_type": "markdown",
   "id": "8e129a93",
   "metadata": {},
   "source": [
    "Now, we can initialize the environment."
   ]
  },
  {
   "cell_type": "code",
   "execution_count": null,
   "id": "64187977",
   "metadata": {},
   "outputs": [],
   "source": [
    "env = Corn( \n",
    "    delta=7,                # Time step is one week\n",
    "    n_actions=11,           # 11 actions available between [0, maxN]   \n",
    "    maxN=150,\n",
    "    operation_file=new_op_path.name,      # Using the default operation we defined in the previous steps\n",
    "    weather_generator_class=FixedWeatherGenerator,   # Deterministic weather\n",
    "    weather_generator_kwargs={'base_weather_file': CYCLES_PATH.joinpath('input', 'RockSprings.weather')},   # Location of the weather data\n",
    "    start_year=1980,\n",
    "    end_year=1981)"
   ]
  },
  {
   "cell_type": "markdown",
   "id": "13921393",
   "metadata": {},
   "source": [
    "Let' reset it and take a look at the observations availalble in this environment. "
   ]
  },
  {
   "cell_type": "code",
   "execution_count": null,
   "id": "88698380",
   "metadata": {},
   "outputs": [],
   "source": [
    "obs = env.reset()\n",
    "for o, o_name in zip(obs, env.observer.obs_names):\n",
    "    print(f'Variable name: {o_name:<15}\\tValue: {o}')\n"
   ]
  },
  {
   "cell_type": "markdown",
   "id": "5c26d5ff",
   "metadata": {},
   "source": [
    "Now we specify the expert policy. This expert policy is open loop in the sense that that it does not take into account any information about the system and the action applied only depends on the day or the year. As a consequence, it can be expressed as a pre-specified sequence of actions rather than as a mapping from observations to actions. In particular, this consits in applying 150kg/ha around the planting date."
   ]
  },
  {
   "cell_type": "code",
   "execution_count": null,
   "id": "95662410",
   "metadata": {},
   "outputs": [],
   "source": [
    "# Initalize as no fertilization on any week.\n",
    "action_sequence = [0] * 105\n",
    "\n",
    "# At the beginning of the 16th week (day of the year 16*7=112) apply action 10, i.e., the max action in the set \n",
    "# {0, 1, ..., 10}. Given how our environment was defined, this corresponds to 150kg/ha.\n",
    "action_sequence [15] = 10  \n",
    "\n",
    "# Same for the second year\n",
    "action_sequence[68] = 10\n",
    "\n",
    "pi = OpenLoopPolicy(action_sequence)  # Provides an interface for open loop policies that is the same as the stable baselines interface"
   ]
  },
  {
   "cell_type": "markdown",
   "id": "fada7387",
   "metadata": {},
   "source": [
    "Now we can simulate the system and collect info about the policy, the reward, and information about leaching, volatilization, and emission."
   ]
  },
  {
   "cell_type": "code",
   "execution_count": null,
   "id": "b62dd7e4",
   "metadata": {},
   "outputs": [],
   "source": [
    "actions = np.zeros(105, dtype=float)\n",
    "rewards = np.zeros(105, dtype=float)\n",
    "leaching = np.zeros(105, dtype=float)\n",
    "volatilization = np.zeros(105, dtype=float)\n",
    "emission = np.zeros(105, dtype=float)\n",
    "\n",
    "\n",
    "obs = env.reset()\n",
    "week = 0\n",
    "\n",
    "while True:\n",
    "    a, _ = pi.predict(obs)\n",
    "    obs, r, done, info = env.step(a)\n",
    "    actions[week] = a\n",
    "    rewards[week] = r\n",
    "    leaching[week] = info['cost_leaching']\n",
    "    volatilization[week] = info['cost_volatilization']\n",
    "    emission[week] = info['cost_emission']\n",
    "    week += 1\n",
    "    if done:\n",
    "        break\n"
   ]
  },
  {
   "cell_type": "markdown",
   "id": "f8ac66b0",
   "metadata": {},
   "source": [
    "Now, we can plot all the information we collected."
   ]
  },
  {
   "cell_type": "code",
   "execution_count": null,
   "id": "22a8a7ec",
   "metadata": {},
   "outputs": [],
   "source": [
    "for data, name in zip([actions, rewards, leaching, volatilization, emission], \n",
    "                      ['Actions', 'Rewards', 'Leaching', 'Volatilization', 'Emission']):\n",
    "    plt.figure()\n",
    "    plt.plot(data)\n",
    "    plt.title(name)\n",
    "    plt.xlabel('Weeks')\n",
    "\n"
   ]
  },
  {
   "cell_type": "code",
   "execution_count": null,
   "id": "4e71fe52",
   "metadata": {},
   "outputs": [],
   "source": [
    "# Remove temporary file used for this example.\n",
    "new_op_path.unlink()"
   ]
  }
 ],
 "metadata": {
  "kernelspec": {
   "display_name": "Python cyclesgym",
   "language": "python",
   "name": "cyclesgym"
  },
  "language_info": {
   "codemirror_mode": {
    "name": "ipython",
    "version": 3
   },
   "file_extension": ".py",
   "mimetype": "text/x-python",
   "name": "python",
   "nbconvert_exporter": "python",
   "pygments_lexer": "ipython3",
   "version": "3.8.13"
  }
 },
 "nbformat": 4,
 "nbformat_minor": 5
}